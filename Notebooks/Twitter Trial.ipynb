{
 "cells": [
  {
   "cell_type": "code",
   "execution_count": 2,
   "metadata": {},
   "outputs": [
    {
     "name": "stdout",
     "output_type": "stream",
     "text": [
      "Collecting tweepy\n",
      "  Downloading https://files.pythonhosted.org/packages/d5/5f/daac4b4e9b30d7d2a6fdd16a880ff79f27918fe388e4dfc1983dec3a9876/tweepy-3.7.0-py2.py3-none-any.whl\n",
      "Requirement already satisfied: requests>=2.11.1 in /Users/edithiyerhernandez/anaconda3/lib/python3.6/site-packages (from tweepy) (2.19.1)\n",
      "Collecting requests-oauthlib>=0.7.0 (from tweepy)\n",
      "  Downloading https://files.pythonhosted.org/packages/94/e7/c250d122992e1561690d9c0f7856dadb79d61fd4bdd0e598087dce607f6c/requests_oauthlib-1.0.0-py2.py3-none-any.whl\n",
      "Requirement already satisfied: six>=1.10.0 in /Users/edithiyerhernandez/anaconda3/lib/python3.6/site-packages (from tweepy) (1.11.0)\n",
      "Requirement already satisfied: PySocks>=1.5.7 in /Users/edithiyerhernandez/anaconda3/lib/python3.6/site-packages (from tweepy) (1.6.8)\n",
      "Requirement already satisfied: urllib3<1.24,>=1.21.1 in /Users/edithiyerhernandez/anaconda3/lib/python3.6/site-packages (from requests>=2.11.1->tweepy) (1.23)\n",
      "Requirement already satisfied: chardet<3.1.0,>=3.0.2 in /Users/edithiyerhernandez/anaconda3/lib/python3.6/site-packages (from requests>=2.11.1->tweepy) (3.0.4)\n",
      "Requirement already satisfied: certifi>=2017.4.17 in /Users/edithiyerhernandez/anaconda3/lib/python3.6/site-packages (from requests>=2.11.1->tweepy) (2018.10.15)\n",
      "Requirement already satisfied: idna<2.8,>=2.5 in /Users/edithiyerhernandez/anaconda3/lib/python3.6/site-packages (from requests>=2.11.1->tweepy) (2.7)\n",
      "Collecting oauthlib>=0.6.2 (from requests-oauthlib>=0.7.0->tweepy)\n",
      "\u001b[?25l  Downloading https://files.pythonhosted.org/packages/b8/03/ec2be6c125f330361afe33bff48ef7549c47da8fefc658a2df2242175b4b/oauthlib-3.0.0-py2.py3-none-any.whl (142kB)\n",
      "\u001b[K    100% |████████████████████████████████| 143kB 5.1MB/s ta 0:00:01\n",
      "\u001b[?25hInstalling collected packages: oauthlib, requests-oauthlib, tweepy\n",
      "Successfully installed oauthlib-3.0.0 requests-oauthlib-1.0.0 tweepy-3.7.0\n"
     ]
    }
   ],
   "source": [
    "!pip install tweepy"
   ]
  },
  {
   "cell_type": "code",
   "execution_count": 11,
   "metadata": {},
   "outputs": [
    {
     "name": "stdout",
     "output_type": "stream",
     "text": [
      "Collecting searchtweets\n",
      "  Downloading https://files.pythonhosted.org/packages/51/d7/7dd296ba9469e046bad23583aaa0d36b18c7d6e4df9fd2acfb433d1c7ee2/searchtweets-1.7.4-py3-none-any.whl\n",
      "Requirement already satisfied: requests in /Users/edithiyerhernandez/anaconda3/lib/python3.6/site-packages (from searchtweets) (2.19.1)\n",
      "Requirement already satisfied: pyyaml in /Users/edithiyerhernandez/anaconda3/lib/python3.6/site-packages (from searchtweets) (3.13)\n",
      "Collecting tweet-parser (from searchtweets)\n",
      "  Downloading https://files.pythonhosted.org/packages/72/68/66cfc553368796e56920f7be8ac4a1121eb666b16407a0b150114ac8487c/tweet_parser-1.13.1.tar.gz\n",
      "Requirement already satisfied: idna<2.8,>=2.5 in /Users/edithiyerhernandez/anaconda3/lib/python3.6/site-packages (from requests->searchtweets) (2.7)\n",
      "Requirement already satisfied: urllib3<1.24,>=1.21.1 in /Users/edithiyerhernandez/anaconda3/lib/python3.6/site-packages (from requests->searchtweets) (1.23)\n",
      "Requirement already satisfied: chardet<3.1.0,>=3.0.2 in /Users/edithiyerhernandez/anaconda3/lib/python3.6/site-packages (from requests->searchtweets) (3.0.4)\n",
      "Requirement already satisfied: certifi>=2017.4.17 in /Users/edithiyerhernandez/anaconda3/lib/python3.6/site-packages (from requests->searchtweets) (2018.10.15)\n",
      "Building wheels for collected packages: tweet-parser\n",
      "  Running setup.py bdist_wheel for tweet-parser ... \u001b[?25ldone\n",
      "\u001b[?25h  Stored in directory: /Users/edithiyerhernandez/Library/Caches/pip/wheels/2a/92/c7/d5d2039011d9a8afe012c08477ddb4c230e42c7d5620bb14a0\n",
      "Successfully built tweet-parser\n",
      "Installing collected packages: tweet-parser, searchtweets\n",
      "Successfully installed searchtweets-1.7.4 tweet-parser-1.13.1\n"
     ]
    }
   ],
   "source": [
    "!pip install searchtweets"
   ]
  },
  {
   "cell_type": "code",
   "execution_count": 5,
   "metadata": {},
   "outputs": [],
   "source": [
    "import tweepy\n",
    "\n",
    "consumer_key = 'DMCko4ONyji6qZ8X2R5cvq9WK'\n",
    "consumer_secret = 'j4EBMeLKUJijS4qysjB1YjwNFLvjoZoMj6LtupRbqFlATD8vBX'\n",
    "\n",
    "access_token = '257795833-9KWJgBD1RTmi18UZr5O8FTVXDl09hILPNmvmudOT'\n",
    "access_token_secret = 'vtyCxXw0xDplqBwzFsielkqerZto4j9MBuLlObaz7e5aU'\n",
    "\n",
    "auth = tweepy.OAuthHandler(consumer_key, consumer_secret)\n",
    "\n",
    "auth.set_access_token(access_token, access_token_secret)\n",
    "\n",
    "api = tweepy.API(auth)"
   ]
  },
  {
   "cell_type": "code",
   "execution_count": 18,
   "metadata": {},
   "outputs": [],
   "source": [
    "endpoint = 'https://api.twitter.com/1.1/tweets/search/fullarchive/dev.json'"
   ]
  },
  {
   "cell_type": "code",
   "execution_count": 8,
   "metadata": {},
   "outputs": [
    {
     "name": "stdout",
     "output_type": "stream",
     "text": [
      "We’re officially on the move with @madebygoogle at #CES2019! Enjoy the ride and say #HeyGoogle at The Google Assist… https://t.co/GcKwkAsYtx\n",
      "#Maine town's largest employer is shutting call center, ending 227 jobs. Via @sunjournal\n",
      "\n",
      "https://t.co/Bp30yUU2sn\n",
      "The South by Southwest Film Festival has chosen one of this spring’s most anticipated movies for its opening night:… https://t.co/WZ9gOCSBTb\n",
      "#RedBullCrashedIce is one month away! \n",
      "\n",
      "Get your tickets now: https://t.co/RYITsOGN2d https://t.co/WBbxSO5pDF\n",
      "Tomorrow night on @24HoursFOX but if @GrittyNHL ever needs a replacement I think I could fill in. No ? https://t.co/emG9F37YhM\n",
      "RT @MaineTurnpike: Freezing rain is reported in some areas, our maintenance crews are out treating the road.  Please remember that our truc…\n",
      "RT @katherine_lee1: Now it's getting real.\n",
      "\n",
      "https://t.co/AALuHF9Xrb\n",
      "Here's a woo-hoo! for this @waynflete grad who grew up in Windham https://t.co/SqCmCYZ5ks\n",
      "RT @unqualified: #Unqualified this week is 🔥 because it features one of Hollywood’s  best couples, @ericcolsen and @swrightolsen Listen to…\n",
      "RT @DieterBradbury: Debate brewing over gun control bills pending in Maine Legislature @thisdog @pressherald https://t.co/7Qa345eo3J\n"
     ]
    }
   ],
   "source": [
    "for status in tweepy.Cursor(api.home_timeline).items(10):\n",
    "    print(status.text)"
   ]
  },
  {
   "cell_type": "code",
   "execution_count": 10,
   "metadata": {},
   "outputs": [],
   "source": [
    "class StreamListener(tweepy.StreamListener):\n",
    "    \n",
    "    def on_status(self, status):\n",
    "        print(status.text)\n",
    "        \n",
    "    def on_error(self, status_code):\n",
    "        if status_code == 420:\n",
    "            return False\n",
    "\n",
    "stream_Listener = StreamListener()\n",
    "stream = tweepy.Stream(auth=api.auth, listener=stream_Listener)\n",
    "#stream.filter(track=[\"tsunami\"], languages=[\"en\"])"
   ]
  },
  {
   "cell_type": "markdown",
   "metadata": {},
   "source": [
    "### Search Tweets"
   ]
  },
  {
   "cell_type": "code",
   "execution_count": 13,
   "metadata": {},
   "outputs": [],
   "source": [
    "from searchtweets import ResultStream, gen_rule_payload, load_credentials, collect_results"
   ]
  },
  {
   "cell_type": "code",
   "execution_count": null,
   "metadata": {},
   "outputs": [],
   "source": [
    "premium = 'premium'"
   ]
  },
  {
   "cell_type": "code",
   "execution_count": null,
   "metadata": {},
   "outputs": [],
   "source": [
    "# export SEARCHTWEETS_ENDPOINT=endpoint\n",
    "# export SEARCHTWEETS_USERNAME=\n",
    "# export SEARCHTWEETS_PASSWORD=\n",
    "# export SEARCHTWEETS_BEARER_TOKEN=\n",
    "# export SEARCHTWEETS_ACCOUNT_TYPE=premium\n",
    "# export SEARCHTWEETS_CONSUMER_KEY=consumer_key\n",
    "# export SEARCHTWEETS_CONSUMER_SECRET=consumer_secret"
   ]
  },
  {
   "cell_type": "code",
   "execution_count": 41,
   "metadata": {},
   "outputs": [
    {
     "name": "stderr",
     "output_type": "stream",
     "text": [
      "Grabbing bearer token from OAUTH\n"
     ]
    }
   ],
   "source": [
    "enterprise_search_args = load_credentials(\"./search_tweets_creds.yaml\",\n",
    "                                          yaml_key=\"search_tweets_api\",\n",
    "                                          env_overwrite=False)\n",
    "\n",
    "premium_search_args = load_credentials(\"./search_tweets_premium_api.yaml\",\n",
    "                                          yaml_key=\"search_tweets_premium\",\n",
    "                                          env_overwrite=False) "
   ]
  },
  {
   "cell_type": "code",
   "execution_count": 42,
   "metadata": {},
   "outputs": [
    {
     "name": "stdout",
     "output_type": "stream",
     "text": [
      "{\"query\": \"tsunami\", \"maxResults\": 100}\n"
     ]
    }
   ],
   "source": [
    "rule = gen_rule_payload(\"tsunami\", results_per_call=100) # testing with a sandbox account\n",
    "print(rule)"
   ]
  },
  {
   "cell_type": "code",
   "execution_count": 44,
   "metadata": {},
   "outputs": [
    {
     "name": "stderr",
     "output_type": "stream",
     "text": [
      "retrying request; current status code: 401\n",
      "retrying request; current status code: 401\n",
      "retrying request; current status code: 401\n",
      "HTTP Error code: 401: Bad Authentication data.\n",
      "Rule payload: {'query': 'tsunami', 'maxResults': 100}\n"
     ]
    },
    {
     "ename": "HTTPError",
     "evalue": "",
     "output_type": "error",
     "traceback": [
      "\u001b[0;31m---------------------------------------------------------------------------\u001b[0m",
      "\u001b[0;31mHTTPError\u001b[0m                                 Traceback (most recent call last)",
      "\u001b[0;32m<ipython-input-44-39fee9906cf0>\u001b[0m in \u001b[0;36m<module>\u001b[0;34m\u001b[0m\n\u001b[1;32m      1\u001b[0m tweets = collect_results(rule,\n\u001b[1;32m      2\u001b[0m                          \u001b[0mmax_results\u001b[0m\u001b[0;34m=\u001b[0m\u001b[0;36m10\u001b[0m\u001b[0;34m,\u001b[0m\u001b[0;34m\u001b[0m\u001b[0m\n\u001b[0;32m----> 3\u001b[0;31m                          result_stream_args = enterprise_search_args)\n\u001b[0m",
      "\u001b[0;32m~/anaconda3/lib/python3.6/site-packages/searchtweets/result_stream.py\u001b[0m in \u001b[0;36mcollect_results\u001b[0;34m(rule, max_results, result_stream_args)\u001b[0m\n\u001b[1;32m    306\u001b[0m                       \u001b[0mmax_results\u001b[0m\u001b[0;34m=\u001b[0m\u001b[0mmax_results\u001b[0m\u001b[0;34m,\u001b[0m\u001b[0;34m\u001b[0m\u001b[0m\n\u001b[1;32m    307\u001b[0m                       **result_stream_args)\n\u001b[0;32m--> 308\u001b[0;31m     \u001b[0;32mreturn\u001b[0m \u001b[0mlist\u001b[0m\u001b[0;34m(\u001b[0m\u001b[0mrs\u001b[0m\u001b[0;34m.\u001b[0m\u001b[0mstream\u001b[0m\u001b[0;34m(\u001b[0m\u001b[0;34m)\u001b[0m\u001b[0;34m)\u001b[0m\u001b[0;34m\u001b[0m\u001b[0m\n\u001b[0m",
      "\u001b[0;32m~/anaconda3/lib/python3.6/site-packages/searchtweets/result_stream.py\u001b[0m in \u001b[0;36mstream\u001b[0;34m(self)\u001b[0m\n\u001b[1;32m    206\u001b[0m         \u001b[0mself\u001b[0m\u001b[0;34m.\u001b[0m\u001b[0minit_session\u001b[0m\u001b[0;34m(\u001b[0m\u001b[0;34m)\u001b[0m\u001b[0;34m\u001b[0m\u001b[0m\n\u001b[1;32m    207\u001b[0m         \u001b[0mself\u001b[0m\u001b[0;34m.\u001b[0m\u001b[0mcheck_counts\u001b[0m\u001b[0;34m(\u001b[0m\u001b[0;34m)\u001b[0m\u001b[0;34m\u001b[0m\u001b[0m\n\u001b[0;32m--> 208\u001b[0;31m         \u001b[0mself\u001b[0m\u001b[0;34m.\u001b[0m\u001b[0mexecute_request\u001b[0m\u001b[0;34m(\u001b[0m\u001b[0;34m)\u001b[0m\u001b[0;34m\u001b[0m\u001b[0m\n\u001b[0m\u001b[1;32m    209\u001b[0m         \u001b[0mself\u001b[0m\u001b[0;34m.\u001b[0m\u001b[0mstream_started\u001b[0m \u001b[0;34m=\u001b[0m \u001b[0;32mTrue\u001b[0m\u001b[0;34m\u001b[0m\u001b[0m\n\u001b[1;32m    210\u001b[0m         \u001b[0;32mwhile\u001b[0m \u001b[0;32mTrue\u001b[0m\u001b[0;34m:\u001b[0m\u001b[0;34m\u001b[0m\u001b[0m\n",
      "\u001b[0;32m~/anaconda3/lib/python3.6/site-packages/searchtweets/result_stream.py\u001b[0m in \u001b[0;36mexecute_request\u001b[0;34m(self)\u001b[0m\n\u001b[1;32m    258\u001b[0m         resp = request(session=self.session,\n\u001b[1;32m    259\u001b[0m                        \u001b[0murl\u001b[0m\u001b[0;34m=\u001b[0m\u001b[0mself\u001b[0m\u001b[0;34m.\u001b[0m\u001b[0mendpoint\u001b[0m\u001b[0;34m,\u001b[0m\u001b[0;34m\u001b[0m\u001b[0m\n\u001b[0;32m--> 260\u001b[0;31m                        rule_payload=self.rule_payload)\n\u001b[0m\u001b[1;32m    261\u001b[0m         \u001b[0mself\u001b[0m\u001b[0;34m.\u001b[0m\u001b[0mn_requests\u001b[0m \u001b[0;34m+=\u001b[0m \u001b[0;36m1\u001b[0m\u001b[0;34m\u001b[0m\u001b[0m\n\u001b[1;32m    262\u001b[0m         \u001b[0mResultStream\u001b[0m\u001b[0;34m.\u001b[0m\u001b[0msession_request_counter\u001b[0m \u001b[0;34m+=\u001b[0m \u001b[0;36m1\u001b[0m\u001b[0;34m\u001b[0m\u001b[0m\n",
      "\u001b[0;32m~/anaconda3/lib/python3.6/site-packages/searchtweets/result_stream.py\u001b[0m in \u001b[0;36mretried_func\u001b[0;34m(*args, **kwargs)\u001b[0m\n\u001b[1;32m    102\u001b[0m             \u001b[0mlogger\u001b[0m\u001b[0;34m.\u001b[0m\u001b[0merror\u001b[0m\u001b[0;34m(\u001b[0m\u001b[0;34m\"HTTP Error code: {}: {}\"\u001b[0m\u001b[0;34m.\u001b[0m\u001b[0mformat\u001b[0m\u001b[0;34m(\u001b[0m\u001b[0mresp\u001b[0m\u001b[0;34m.\u001b[0m\u001b[0mstatus_code\u001b[0m\u001b[0;34m,\u001b[0m \u001b[0merror_message\u001b[0m\u001b[0;34m)\u001b[0m\u001b[0;34m)\u001b[0m\u001b[0;34m\u001b[0m\u001b[0m\n\u001b[1;32m    103\u001b[0m             \u001b[0mlogger\u001b[0m\u001b[0;34m.\u001b[0m\u001b[0merror\u001b[0m\u001b[0;34m(\u001b[0m\u001b[0;34m\"Rule payload: {}\"\u001b[0m\u001b[0;34m.\u001b[0m\u001b[0mformat\u001b[0m\u001b[0;34m(\u001b[0m\u001b[0mkwargs\u001b[0m\u001b[0;34m[\u001b[0m\u001b[0;34m\"rule_payload\"\u001b[0m\u001b[0;34m]\u001b[0m\u001b[0;34m)\u001b[0m\u001b[0;34m)\u001b[0m\u001b[0;34m\u001b[0m\u001b[0m\n\u001b[0;32m--> 104\u001b[0;31m             \u001b[0;32mraise\u001b[0m \u001b[0mrequests\u001b[0m\u001b[0;34m.\u001b[0m\u001b[0mexceptions\u001b[0m\u001b[0;34m.\u001b[0m\u001b[0mHTTPError\u001b[0m\u001b[0;34m\u001b[0m\u001b[0m\n\u001b[0m\u001b[1;32m    105\u001b[0m \u001b[0;34m\u001b[0m\u001b[0m\n\u001b[1;32m    106\u001b[0m         \u001b[0;32mreturn\u001b[0m \u001b[0mresp\u001b[0m\u001b[0;34m\u001b[0m\u001b[0m\n",
      "\u001b[0;31mHTTPError\u001b[0m: "
     ]
    }
   ],
   "source": [
    "tweets = collect_results(rule,\n",
    "                         max_results=10,\n",
    "                         result_stream_args = enterprise_search_args)"
   ]
  },
  {
   "cell_type": "code",
   "execution_count": null,
   "metadata": {},
   "outputs": [],
   "source": []
  }
 ],
 "metadata": {
  "kernelspec": {
   "display_name": "Python 3",
   "language": "python",
   "name": "python3"
  },
  "language_info": {
   "codemirror_mode": {
    "name": "ipython",
    "version": 3
   },
   "file_extension": ".py",
   "mimetype": "text/x-python",
   "name": "python",
   "nbconvert_exporter": "python",
   "pygments_lexer": "ipython3",
   "version": "3.6.6"
  }
 },
 "nbformat": 4,
 "nbformat_minor": 2
}

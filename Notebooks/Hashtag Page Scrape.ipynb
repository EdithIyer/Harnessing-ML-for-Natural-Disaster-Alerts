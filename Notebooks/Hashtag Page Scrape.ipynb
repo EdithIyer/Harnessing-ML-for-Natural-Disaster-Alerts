{
 "cells": [
  {
   "cell_type": "markdown",
   "metadata": {},
   "source": [
    "## Import Required Packages"
   ]
  },
  {
   "cell_type": "code",
   "execution_count": null,
   "metadata": {},
   "outputs": [],
   "source": [
    "import pandas as pd\n",
    "import time\n",
    "\n",
    "from selenium import webdriver\n",
    "from bs4 import BeautifulSoup as bs\n",
    "from datetime import datetime"
   ]
  },
  {
   "cell_type": "markdown",
   "metadata": {},
   "source": [
    "---"
   ]
  },
  {
   "cell_type": "markdown",
   "metadata": {},
   "source": [
    "## Web Scrape Twitter's #tsunami webpage (Specifically for infinite scroll webpages):\n"
   ]
  },
  {
   "cell_type": "code",
   "execution_count": null,
   "metadata": {
    "scrolled": true
   },
   "outputs": [],
   "source": [
    "# Assign browser to be used; I used Chrome.\n",
    "browser = webdriver.Chrome()\n",
    "\n",
    "# Enter the URL to be scraped.\n",
    "browser.get(\"https://twitter.com/hashtag/tsunami?lang=en\")\n",
    "\n",
    "# Selenium script to scroll to the bottom of webpage, \n",
    "# wait 1 second for the next batch of data to load, \n",
    "# then continue scrolling.  It will continue to do this until the page stops loading new data.\n",
    "lenOfPage = browser.execute_script(\"window.scrollTo(0, document.body.scrollHeight);var lenOfPage=document.body.scrollHeight;return lenOfPage;\")\n",
    "match=False\n",
    "while(match==False):\n",
    "        lastCount = lenOfPage\n",
    "        time.sleep(1)\n",
    "        lenOfPage = browser.execute_script(\"window.scrollTo(0, document.body.scrollHeight);var lenOfPage=document.body.scrollHeight;return lenOfPage;\")\n",
    "        if lastCount==lenOfPage:\n",
    "            match=True\n",
    "\n",
    "# The page has been fully scrolled.\n",
    "# Now it is ready to actually scrape and store the data.\n",
    "source_data = browser.page_source\n",
    "\n",
    "# Use BeautifulSoup to Parse code.\n",
    "bs_data = bs(source_data)"
   ]
  },
  {
   "cell_type": "markdown",
   "metadata": {},
   "source": [
    "---"
   ]
  },
  {
   "cell_type": "markdown",
   "metadata": {},
   "source": [
    "## Get Number of Tweets for reference:"
   ]
  },
  {
   "cell_type": "code",
   "execution_count": null,
   "metadata": {
    "scrolled": true
   },
   "outputs": [],
   "source": [
    "# Each tweet was found with .find_all('p', {'class': 'TweetTextSize js-tweet-text tweet-text'})\n",
    "# I entered these tweets into a list, and then returned the length, to know how many\n",
    "# Tweets were scraped and to be used in for loop below.\n",
    "\n",
    "num_tweets = len(list(bs_data.find_all('p', {'class': 'TweetTextSize js-tweet-text tweet-text'})))\n",
    "num_tweets"
   ]
  },
  {
   "cell_type": "markdown",
   "metadata": {},
   "source": [
    "---"
   ]
  },
  {
   "cell_type": "markdown",
   "metadata": {},
   "source": [
    "## Transform scraped data into a list of dictionaries:"
   ]
  },
  {
   "cell_type": "code",
   "execution_count": null,
   "metadata": {},
   "outputs": [],
   "source": [
    "# Create empty master_list where we will append dictionaries containing tweet and its\n",
    "# information:\n",
    "\n",
    "master_list = []\n",
    "\n",
    "# For loop through each tweet scraped above:\n",
    "for i in range(num_tweets):\n",
    "    \n",
    "    # Use BeautifulSoup to sort through raw tweets (not cleaned, still containing HTML, etc.):\n",
    "    tweets = bs_data.find_all('p', {'class': 'TweetTextSize js-tweet-text tweet-text'})\n",
    "\n",
    "    # Create empty, temporary dictionary where each tweet's info will be stored:\n",
    "    temp_dict = {}\n",
    "    \n",
    "    # Extract the handle of the tweet:\n",
    "    temp_dict['handle']     = str(list(bs_data.find_all('a', {'class': 'tweet-timestamp js-permalink js-nav js-tooltip'}))[i]).split('href=\"/')[1].split('/status')[0]\n",
    "    \n",
    "    # Clean up/extract the cleaned tweet; if IndexError, just return an empty string (discard later on):\n",
    "    try:\n",
    "        temp_dict['tweet']      = str(tweets[i].get_text()).replace(\"\\n\", \" \")\n",
    "    except IndexError:\n",
    "        temp_dict['tweet']      = \"\"\n",
    "    \n",
    "    # Organize the dictionary to include when (date and time) the tweet was sent out:\n",
    "    temp_dict['day']        = str(list(bs_data.find_all('a', {'class': 'tweet-timestamp js-permalink js-nav js-tooltip'}))[i]).split('title=\"')[1].split('\"><span ')[0].split('-')[1].lstrip().split(' ')[0]\n",
    "    temp_dict['month']      = str(list(bs_data.find_all('a', {'class': 'tweet-timestamp js-permalink js-nav js-tooltip'}))[i]).split('title=\"')[1].split('\"><span ')[0].split('-')[1].lstrip().split(' ')[1]\n",
    "    temp_dict['year']       = str(list(bs_data.find_all('a', {'class': 'tweet-timestamp js-permalink js-nav js-tooltip'}))[i]).split('title=\"')[1].split('\"><span ')[0].split('-')[1].lstrip().split(' ')[2]\n",
    "    temp_dict['time']       = str(list(bs_data.find_all('a', {'class': 'tweet-timestamp js-permalink js-nav js-tooltip'}))[i]).split('title=\"')[1].split('\"><span ')[0].split(' - ')[0]\n",
    "    \n",
    "    # Create a datetime object to be added to the dictionary:\n",
    "    datetime_object = datetime.strptime(temp_dict['month'] + ' ' + temp_dict['day'] + ' ' + temp_dict['year'] + ' ' + temp_dict['time'].replace(\" \", \"\"), '%b %d %Y %I:%M%p')\n",
    "    \n",
    "    # Add the tweet's datetime of when it was sent out:\n",
    "    temp_dict['datetime']   = datetime_object\n",
    "    \n",
    "    # Append the temporary dictionary containing the tweet's information to the master_list:\n",
    "    master_list.append(temp_dict)\n",
    "    \n",
    "    # Print i to show the status of the code:\n",
    "    print(i)\n",
    "    \n",
    "\n",
    "# Turn the 'master_list' into a Pandas DataFrame, and assign to variable 'df':\n",
    "\n",
    "df = pd.DataFrame(master_list)\n",
    "\n",
    "# Rearrange columns in a more logical order:\n",
    "\n",
    "df = df[['handle', 'tweet', 'if_tsunami', 'datetime', 'day', 'month', 'year', 'time']]\n",
    "\n",
    "# Save the Pandas DataFrame to a .csv file:\n",
    "\n",
    "df.to_csv('Addtnl_train_tweets.csv', index=False, sep=\",\")"
   ]
  }
 ],
 "metadata": {
  "kernelspec": {
   "display_name": "Python 3",
   "language": "python",
   "name": "python3"
  },
  "language_info": {
   "codemirror_mode": {
    "name": "ipython",
    "version": 3
   },
   "file_extension": ".py",
   "mimetype": "text/x-python",
   "name": "python",
   "nbconvert_exporter": "python",
   "pygments_lexer": "ipython3",
   "version": "3.6.5"
  }
 },
 "nbformat": 4,
 "nbformat_minor": 2
}

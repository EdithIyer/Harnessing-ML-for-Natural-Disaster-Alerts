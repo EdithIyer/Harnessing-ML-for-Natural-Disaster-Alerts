{
 "cells": [
  {
   "cell_type": "markdown",
   "metadata": {},
   "source": [
    "# Preprocessing and Model Workflow\n",
    "\n",
    "Overall Process for preprocessing and workflow.\n",
    "1. Import libraries and data\n",
    "2. Lemmatization\n",
    "3. Vectorization\n",
    "4. Excess vector removal and pruning\n",
    "5. Rebalancing classes\n",
    "5. Train/test split\n",
    "6. PCA\n",
    "7. Cross validation of models\n",
    "    - Logistic Regression\n",
    "    - Decision Tree\n",
    "    - Bagging\n",
    "    - Random Forest\n",
    "    - AdaBoost\n",
    "8. Grid Search through top performing models\n",
    "9. Final Model Selection\n",
    "10. Process for Classifying new tweets"
   ]
  },
  {
   "cell_type": "markdown",
   "metadata": {},
   "source": [
    "## Imports"
   ]
  },
  {
   "cell_type": "code",
   "execution_count": 141,
   "metadata": {},
   "outputs": [],
   "source": [
    "import pandas as pd\n",
    "import numpy as np\n",
    "import seaborn as sns\n",
    "import matplotlib.pyplot as plt\n",
    "\n",
    "%matplotlib inline\n",
    "\n",
    "#Models\n",
    "from sklearn.linear_model import LogisticRegression\n",
    "from sklearn.tree import DecisionTreeClassifier\n",
    "from sklearn.ensemble import RandomForestClassifier, BaggingClassifier, ExtraTreesClassifier, AdaBoostClassifier\n",
    "from sklearn.preprocessing import StandardScaler\n",
    "from sklearn.model_selection import cross_val_score, train_test_split, GridSearchCV, KFold, cross_validate\n",
    "from sklearn.metrics import f1_score\n",
    "\n",
    "#NLP\n",
    "from sklearn.feature_extraction.text import CountVectorizer, TfidfVectorizer, HashingVectorizer\n",
    "import nltk\n",
    "from nltk.stem import WordNetLemmatizer\n",
    "from nltk.tokenize import RegexpTokenizer\n",
    "import regex as re\n",
    "from nltk.corpus import stopwords # Import the stop word list\n",
    "from sklearn.metrics import confusion_matrix\n",
    "\n",
    "# PCA\n",
    "from sklearn.decomposition import PCA \n",
    "\n",
    "# Resampling Methods\n",
    "from sklearn.utils import resample\n",
    "from imblearn.over_sampling import SMOTE\n",
    "from imblearn.combine import SMOTEENN, SMOTETomek\n",
    "from imblearn.ensemble import BalancedBaggingClassifier\n",
    "\n",
    "\n",
    "import warnings\n",
    "warnings.simplefilter(action = 'ignore', category=FutureWarning)"
   ]
  },
  {
   "cell_type": "code",
   "execution_count": 3,
   "metadata": {},
   "outputs": [],
   "source": [
    "#set a random seed\n",
    "np.random.seed(42)"
   ]
  },
  {
   "cell_type": "markdown",
   "metadata": {},
   "source": [
    "Import the Dataset"
   ]
  },
  {
   "cell_type": "code",
   "execution_count": 4,
   "metadata": {},
   "outputs": [],
   "source": [
    "df = pd.read_csv('./combined_df.csv', lineterminator='\\n')"
   ]
  },
  {
   "cell_type": "markdown",
   "metadata": {},
   "source": [
    "Look at the first 5 entries"
   ]
  },
  {
   "cell_type": "code",
   "execution_count": 5,
   "metadata": {},
   "outputs": [
    {
     "data": {
      "text/html": [
       "<div>\n",
       "<style scoped>\n",
       "    .dataframe tbody tr th:only-of-type {\n",
       "        vertical-align: middle;\n",
       "    }\n",
       "\n",
       "    .dataframe tbody tr th {\n",
       "        vertical-align: top;\n",
       "    }\n",
       "\n",
       "    .dataframe thead th {\n",
       "        text-align: right;\n",
       "    }\n",
       "</style>\n",
       "<table border=\"1\" class=\"dataframe\">\n",
       "  <thead>\n",
       "    <tr style=\"text-align: right;\">\n",
       "      <th></th>\n",
       "      <th>tsunami</th>\n",
       "      <th>tweet</th>\n",
       "    </tr>\n",
       "  </thead>\n",
       "  <tbody>\n",
       "    <tr>\n",
       "      <th>0</th>\n",
       "      <td>0</td>\n",
       "      <td>I feel so lucky rn</td>\n",
       "    </tr>\n",
       "    <tr>\n",
       "      <th>1</th>\n",
       "      <td>0</td>\n",
       "      <td>@AshNiggas tink ...</td>\n",
       "    </tr>\n",
       "    <tr>\n",
       "      <th>2</th>\n",
       "      <td>1</td>\n",
       "      <td>So did we have a hurricane tornado tsunami? So...</td>\n",
       "    </tr>\n",
       "    <tr>\n",
       "      <th>3</th>\n",
       "      <td>1</td>\n",
       "      <td>@helene_yancey GodsLove &amp;amp; #thankU my siste...</td>\n",
       "    </tr>\n",
       "    <tr>\n",
       "      <th>4</th>\n",
       "      <td>0</td>\n",
       "      <td>I liked a @YouTube video from @team0epiphany h...</td>\n",
       "    </tr>\n",
       "  </tbody>\n",
       "</table>\n",
       "</div>"
      ],
      "text/plain": [
       "   tsunami                                              tweet\n",
       "0        0                                 I feel so lucky rn\n",
       "1        0                                @AshNiggas tink ...\n",
       "2        1  So did we have a hurricane tornado tsunami? So...\n",
       "3        1  @helene_yancey GodsLove &amp; #thankU my siste...\n",
       "4        0  I liked a @YouTube video from @team0epiphany h..."
      ]
     },
     "execution_count": 5,
     "metadata": {},
     "output_type": "execute_result"
    }
   ],
   "source": [
    "df.head()"
   ]
  },
  {
   "cell_type": "markdown",
   "metadata": {},
   "source": [
    "## Problem: Unbalanced classes!"
   ]
  },
  {
   "cell_type": "code",
   "execution_count": 15,
   "metadata": {
    "scrolled": true
   },
   "outputs": [
    {
     "data": {
      "text/plain": [
       "0    0.805714\n",
       "1    0.194286\n",
       "Name: tsunami, dtype: float64"
      ]
     },
     "execution_count": 15,
     "metadata": {},
     "output_type": "execute_result"
    }
   ],
   "source": [
    "df.tsunami.value_counts(normalize=True)"
   ]
  },
  {
   "cell_type": "code",
   "execution_count": 106,
   "metadata": {},
   "outputs": [],
   "source": [
    "not_worthy = df.tsunami.value_counts(normalize=True)[0]\n",
    "worthy = df.tsunami.value_counts(normalize=True)[1]"
   ]
  },
  {
   "cell_type": "code",
   "execution_count": 121,
   "metadata": {},
   "outputs": [
    {
     "data": {
      "text/plain": [
       "''"
      ]
     },
     "execution_count": 121,
     "metadata": {},
     "output_type": "execute_result"
    },
    {
     "data": {
      "image/png": "[encoded data removed]",
      "text/plain": [
       "<Figure size 1080x720 with 1 Axes>"
      ]
     },
     "metadata": {},
     "output_type": "display_data"
    }
   ],
   "source": [
    "#Create a plot to show imbalanced Classes\n",
    "plt.figure(figsize = (15, 10))\n",
    "\n",
    "sns.set() #(Re)set the seaborn default\n",
    "sns.set_style(\"whitegrid\") #Set the matplotlib parameters\n",
    "sns.set_style(\"ticks\", {\"xtick.major.size\":15,\n",
    "\"ytick.major.size\":15})\n",
    "sns.axes_style(\"whitegrid\")\n",
    "\n",
    "sns.countplot(data = df, x='tsunami', palette = 'Blues_r', )\n",
    "plt.title(label = ' Alert Worthy and \\n Not Alert Worthy Tweets', \n",
    "          fontsize = 35)\n",
    "plt.ylabel('Count', fontsize = 40)\n",
    "plt.xlabel('')\n",
    "#plt.xticks('Not Alert Worthy', 'Alert Worthy')\n",
    "plt.yticks(fontsize = 15)\n",
    "\n",
    "\n",
    "\n",
    ";"
   ]
  },
  {
   "cell_type": "markdown",
   "metadata": {},
   "source": [
    "Our data set has significantly unbalanced classes, so we have to determine a method to synthetically balance the classes. Instead of oversampling with replacement using sklearn, we will utilize SMOTE or Synthetic Minority Oversampling Technique to acheive this. The main issue of over sampling with replacement is that it leads to overfit models. SMOTE is able to add data points based on interpolation. \n",
    "\n",
    "<br>\n",
    "\n",
    "After we preprocess our dataset for model fitting and testing, we will first explore what value for k works best for our model and how this will improve our accuracy scores for each model that we want to investigate. Next, we will try two additional resampling techniques to try to optimize."
   ]
  },
  {
   "cell_type": "markdown",
   "metadata": {},
   "source": [
    "## Lemmatization"
   ]
  },
  {
   "cell_type": "code",
   "execution_count": 6,
   "metadata": {},
   "outputs": [],
   "source": [
    "#instatiate\n",
    "lemmatizer = WordNetLemmatizer()"
   ]
  },
  {
   "cell_type": "code",
   "execution_count": 7,
   "metadata": {},
   "outputs": [],
   "source": [
    "def lemmatized_column(df, col):\n",
    "    lemmatized_col = []\n",
    "    for i in list(range(len(col))):\n",
    "        text = col[i]\n",
    "         # Remove non-letters        \n",
    "        letters_only = re.sub(\"[^a-zA-Z]\", \" \", text)\n",
    "        #\n",
    "        # Convert to lower case, split into individual words\n",
    "        words = letters_only.split()\n",
    "        #\n",
    "        #convert the stop words to a set\n",
    "        stops = set(stopwords.words('english')) \n",
    "        # \n",
    "        # Remove stop words\n",
    "        meaningful_words = [w for w in words if not w in stops]\n",
    "        #\n",
    "        #exclude some key words - If necessary.\n",
    "#         new_stops = ['lotr', 'asoiaf', \n",
    "#                      'lord', 'rings', \n",
    "#                      'ring', 'game', \n",
    "#                      'throne', 'thrones']\n",
    "#         more_meaningful_words = [w for w in meaningful_words if not w in new_stops]\n",
    "        #\n",
    "        lemmed_words = [lemmatizer.lemmatize(i) for i in meaningful_words]\n",
    "        #Join the words back into one string separated by space, \n",
    "        # \n",
    "        joined_words = ' '.join(lemmed_words)\n",
    "        lemmatized_col.append(joined_words)\n",
    "        \n",
    "    df['lemmatized'] = lemmatized_col\n",
    "    return lemmatized_col"
   ]
  },
  {
   "cell_type": "code",
   "execution_count": 8,
   "metadata": {},
   "outputs": [],
   "source": [
    "#save a new column as the lemmatized column\n",
    "new_column = lemmatized_column(df, df.tweet)"
   ]
  },
  {
   "cell_type": "code",
   "execution_count": 9,
   "metadata": {},
   "outputs": [
    {
     "data": {
      "text/html": [
       "<div>\n",
       "<style scoped>\n",
       "    .dataframe tbody tr th:only-of-type {\n",
       "        vertical-align: middle;\n",
       "    }\n",
       "\n",
       "    .dataframe tbody tr th {\n",
       "        vertical-align: top;\n",
       "    }\n",
       "\n",
       "    .dataframe thead th {\n",
       "        text-align: right;\n",
       "    }\n",
       "</style>\n",
       "<table border=\"1\" class=\"dataframe\">\n",
       "  <thead>\n",
       "    <tr style=\"text-align: right;\">\n",
       "      <th></th>\n",
       "      <th>tsunami</th>\n",
       "      <th>tweet</th>\n",
       "      <th>lemmatized</th>\n",
       "    </tr>\n",
       "  </thead>\n",
       "  <tbody>\n",
       "    <tr>\n",
       "      <th>0</th>\n",
       "      <td>0</td>\n",
       "      <td>I feel so lucky rn</td>\n",
       "      <td>I feel lucky rn</td>\n",
       "    </tr>\n",
       "    <tr>\n",
       "      <th>1</th>\n",
       "      <td>0</td>\n",
       "      <td>@AshNiggas tink ...</td>\n",
       "      <td>AshNiggas tink</td>\n",
       "    </tr>\n",
       "    <tr>\n",
       "      <th>2</th>\n",
       "      <td>1</td>\n",
       "      <td>So did we have a hurricane tornado tsunami? So...</td>\n",
       "      <td>So hurricane tornado tsunami Someone please te...</td>\n",
       "    </tr>\n",
       "    <tr>\n",
       "      <th>3</th>\n",
       "      <td>1</td>\n",
       "      <td>@helene_yancey GodsLove &amp;amp; #thankU my siste...</td>\n",
       "      <td>helene yancey GodsLove amp thankU sister Helen...</td>\n",
       "    </tr>\n",
       "    <tr>\n",
       "      <th>4</th>\n",
       "      <td>0</td>\n",
       "      <td>I liked a @YouTube video from @team0epiphany h...</td>\n",
       "      <td>I liked YouTube video team epiphany http co ku...</td>\n",
       "    </tr>\n",
       "  </tbody>\n",
       "</table>\n",
       "</div>"
      ],
      "text/plain": [
       "   tsunami                                              tweet  \\\n",
       "0        0                                 I feel so lucky rn   \n",
       "1        0                                @AshNiggas tink ...   \n",
       "2        1  So did we have a hurricane tornado tsunami? So...   \n",
       "3        1  @helene_yancey GodsLove &amp; #thankU my siste...   \n",
       "4        0  I liked a @YouTube video from @team0epiphany h...   \n",
       "\n",
       "                                          lemmatized  \n",
       "0                                    I feel lucky rn  \n",
       "1                                     AshNiggas tink  \n",
       "2  So hurricane tornado tsunami Someone please te...  \n",
       "3  helene yancey GodsLove amp thankU sister Helen...  \n",
       "4  I liked YouTube video team epiphany http co ku...  "
      ]
     },
     "execution_count": 9,
     "metadata": {},
     "output_type": "execute_result"
    }
   ],
   "source": [
    "df.head()"
   ]
  },
  {
   "cell_type": "markdown",
   "metadata": {},
   "source": [
    "## Vectorization"
   ]
  },
  {
   "cell_type": "code",
   "execution_count": 10,
   "metadata": {},
   "outputs": [],
   "source": [
    "def vectorize_tweets(method, col, df):\n",
    "    #Instantiate\n",
    "    vect = method()\n",
    "    \n",
    "    #fit and transform X_train\n",
    "    vect.fit(df[col])\n",
    "    columns_vect = vect.transform(df[col])\n",
    "    \n",
    "    #turn both train and  test into dataframes\n",
    "    vect_df = pd.DataFrame(columns_vect.todense(), columns= vect.get_feature_names())\n",
    "    \n",
    "    \n",
    "    return vect_df"
   ]
  },
  {
   "cell_type": "code",
   "execution_count": 11,
   "metadata": {},
   "outputs": [],
   "source": [
    "count_df = vectorize_tweets(CountVectorizer, 'lemmatized', df)\n",
    "#tfidf_df = vectorize_tweets(TfidfVectorizer, 'lemmatized', df)\n",
    "#hash_df = vectorize_tweets(HashingVectorizer, 'lemmatized', df)"
   ]
  },
  {
   "cell_type": "code",
   "execution_count": 13,
   "metadata": {
    "scrolled": true
   },
   "outputs": [
    {
     "data": {
      "text/html": [
       "<div>\n",
       "<style scoped>\n",
       "    .dataframe tbody tr th:only-of-type {\n",
       "        vertical-align: middle;\n",
       "    }\n",
       "\n",
       "    .dataframe tbody tr th {\n",
       "        vertical-align: top;\n",
       "    }\n",
       "\n",
       "    .dataframe thead th {\n",
       "        text-align: right;\n",
       "    }\n",
       "</style>\n",
       "<table border=\"1\" class=\"dataframe\">\n",
       "  <thead>\n",
       "    <tr style=\"text-align: right;\">\n",
       "      <th></th>\n",
       "      <th>aade</th>\n",
       "      <th>aasfmvbl</th>\n",
       "      <th>able</th>\n",
       "      <th>about</th>\n",
       "      <th>above</th>\n",
       "      <th>absirfimrankhan</th>\n",
       "      <th>absolute</th>\n",
       "      <th>accnrnc</th>\n",
       "      <th>according</th>\n",
       "      <th>accuse</th>\n",
       "      <th>...</th>\n",
       "      <th>zjm</th>\n",
       "      <th>znof</th>\n",
       "      <th>zone</th>\n",
       "      <th>zrekuvo</th>\n",
       "      <th>zrx</th>\n",
       "      <th>zs</th>\n",
       "      <th>zt</th>\n",
       "      <th>ztr</th>\n",
       "      <th>zy</th>\n",
       "      <th>zz</th>\n",
       "    </tr>\n",
       "  </thead>\n",
       "  <tbody>\n",
       "    <tr>\n",
       "      <th>0</th>\n",
       "      <td>0</td>\n",
       "      <td>0</td>\n",
       "      <td>0</td>\n",
       "      <td>0</td>\n",
       "      <td>0</td>\n",
       "      <td>0</td>\n",
       "      <td>0</td>\n",
       "      <td>0</td>\n",
       "      <td>0</td>\n",
       "      <td>0</td>\n",
       "      <td>...</td>\n",
       "      <td>0</td>\n",
       "      <td>0</td>\n",
       "      <td>0</td>\n",
       "      <td>0</td>\n",
       "      <td>0</td>\n",
       "      <td>0</td>\n",
       "      <td>0</td>\n",
       "      <td>0</td>\n",
       "      <td>0</td>\n",
       "      <td>0</td>\n",
       "    </tr>\n",
       "    <tr>\n",
       "      <th>1</th>\n",
       "      <td>0</td>\n",
       "      <td>0</td>\n",
       "      <td>0</td>\n",
       "      <td>0</td>\n",
       "      <td>0</td>\n",
       "      <td>0</td>\n",
       "      <td>0</td>\n",
       "      <td>0</td>\n",
       "      <td>0</td>\n",
       "      <td>0</td>\n",
       "      <td>...</td>\n",
       "      <td>0</td>\n",
       "      <td>0</td>\n",
       "      <td>0</td>\n",
       "      <td>0</td>\n",
       "      <td>0</td>\n",
       "      <td>0</td>\n",
       "      <td>0</td>\n",
       "      <td>0</td>\n",
       "      <td>0</td>\n",
       "      <td>0</td>\n",
       "    </tr>\n",
       "    <tr>\n",
       "      <th>2</th>\n",
       "      <td>0</td>\n",
       "      <td>0</td>\n",
       "      <td>0</td>\n",
       "      <td>0</td>\n",
       "      <td>0</td>\n",
       "      <td>0</td>\n",
       "      <td>0</td>\n",
       "      <td>0</td>\n",
       "      <td>0</td>\n",
       "      <td>0</td>\n",
       "      <td>...</td>\n",
       "      <td>0</td>\n",
       "      <td>0</td>\n",
       "      <td>0</td>\n",
       "      <td>0</td>\n",
       "      <td>0</td>\n",
       "      <td>0</td>\n",
       "      <td>0</td>\n",
       "      <td>0</td>\n",
       "      <td>0</td>\n",
       "      <td>0</td>\n",
       "    </tr>\n",
       "    <tr>\n",
       "      <th>3</th>\n",
       "      <td>0</td>\n",
       "      <td>0</td>\n",
       "      <td>0</td>\n",
       "      <td>0</td>\n",
       "      <td>0</td>\n",
       "      <td>0</td>\n",
       "      <td>0</td>\n",
       "      <td>0</td>\n",
       "      <td>0</td>\n",
       "      <td>0</td>\n",
       "      <td>...</td>\n",
       "      <td>0</td>\n",
       "      <td>0</td>\n",
       "      <td>0</td>\n",
       "      <td>0</td>\n",
       "      <td>0</td>\n",
       "      <td>0</td>\n",
       "      <td>0</td>\n",
       "      <td>0</td>\n",
       "      <td>0</td>\n",
       "      <td>0</td>\n",
       "    </tr>\n",
       "    <tr>\n",
       "      <th>4</th>\n",
       "      <td>0</td>\n",
       "      <td>0</td>\n",
       "      <td>0</td>\n",
       "      <td>0</td>\n",
       "      <td>0</td>\n",
       "      <td>0</td>\n",
       "      <td>0</td>\n",
       "      <td>0</td>\n",
       "      <td>0</td>\n",
       "      <td>0</td>\n",
       "      <td>...</td>\n",
       "      <td>0</td>\n",
       "      <td>0</td>\n",
       "      <td>0</td>\n",
       "      <td>0</td>\n",
       "      <td>0</td>\n",
       "      <td>0</td>\n",
       "      <td>0</td>\n",
       "      <td>0</td>\n",
       "      <td>0</td>\n",
       "      <td>0</td>\n",
       "    </tr>\n",
       "  </tbody>\n",
       "</table>\n",
       "<p>5 rows × 2929 columns</p>\n",
       "</div>"
      ],
      "text/plain": [
       "   aade  aasfmvbl  able  about  above  absirfimrankhan  absolute  accnrnc  \\\n",
       "0     0         0     0      0      0                0         0        0   \n",
       "1     0         0     0      0      0                0         0        0   \n",
       "2     0         0     0      0      0                0         0        0   \n",
       "3     0         0     0      0      0                0         0        0   \n",
       "4     0         0     0      0      0                0         0        0   \n",
       "\n",
       "   according  accuse ...  zjm  znof  zone  zrekuvo  zrx  zs  zt  ztr  zy  zz  \n",
       "0          0       0 ...    0     0     0        0    0   0   0    0   0   0  \n",
       "1          0       0 ...    0     0     0        0    0   0   0    0   0   0  \n",
       "2          0       0 ...    0     0     0        0    0   0   0    0   0   0  \n",
       "3          0       0 ...    0     0     0        0    0   0   0    0   0   0  \n",
       "4          0       0 ...    0     0     0        0    0   0   0    0   0   0  \n",
       "\n",
       "[5 rows x 2929 columns]"
      ]
     },
     "execution_count": 13,
     "metadata": {},
     "output_type": "execute_result"
    }
   ],
   "source": [
    "count_df.head()"
   ]
  },
  {
   "cell_type": "code",
   "execution_count": 17,
   "metadata": {},
   "outputs": [],
   "source": [
    "count_df['y_target'] = df['tsunami']"
   ]
  },
  {
   "cell_type": "code",
   "execution_count": 18,
   "metadata": {},
   "outputs": [
    {
     "data": {
      "text/html": [
       "<div>\n",
       "<style scoped>\n",
       "    .dataframe tbody tr th:only-of-type {\n",
       "        vertical-align: middle;\n",
       "    }\n",
       "\n",
       "    .dataframe tbody tr th {\n",
       "        vertical-align: top;\n",
       "    }\n",
       "\n",
       "    .dataframe thead th {\n",
       "        text-align: right;\n",
       "    }\n",
       "</style>\n",
       "<table border=\"1\" class=\"dataframe\">\n",
       "  <thead>\n",
       "    <tr style=\"text-align: right;\">\n",
       "      <th></th>\n",
       "      <th>aade</th>\n",
       "      <th>aasfmvbl</th>\n",
       "      <th>able</th>\n",
       "      <th>about</th>\n",
       "      <th>above</th>\n",
       "      <th>absirfimrankhan</th>\n",
       "      <th>absolute</th>\n",
       "      <th>accnrnc</th>\n",
       "      <th>according</th>\n",
       "      <th>accuse</th>\n",
       "      <th>...</th>\n",
       "      <th>znof</th>\n",
       "      <th>zone</th>\n",
       "      <th>zrekuvo</th>\n",
       "      <th>zrx</th>\n",
       "      <th>zs</th>\n",
       "      <th>zt</th>\n",
       "      <th>ztr</th>\n",
       "      <th>zy</th>\n",
       "      <th>zz</th>\n",
       "      <th>y_target</th>\n",
       "    </tr>\n",
       "  </thead>\n",
       "  <tbody>\n",
       "    <tr>\n",
       "      <th>0</th>\n",
       "      <td>0</td>\n",
       "      <td>0</td>\n",
       "      <td>0</td>\n",
       "      <td>0</td>\n",
       "      <td>0</td>\n",
       "      <td>0</td>\n",
       "      <td>0</td>\n",
       "      <td>0</td>\n",
       "      <td>0</td>\n",
       "      <td>0</td>\n",
       "      <td>...</td>\n",
       "      <td>0</td>\n",
       "      <td>0</td>\n",
       "      <td>0</td>\n",
       "      <td>0</td>\n",
       "      <td>0</td>\n",
       "      <td>0</td>\n",
       "      <td>0</td>\n",
       "      <td>0</td>\n",
       "      <td>0</td>\n",
       "      <td>0</td>\n",
       "    </tr>\n",
       "    <tr>\n",
       "      <th>1</th>\n",
       "      <td>0</td>\n",
       "      <td>0</td>\n",
       "      <td>0</td>\n",
       "      <td>0</td>\n",
       "      <td>0</td>\n",
       "      <td>0</td>\n",
       "      <td>0</td>\n",
       "      <td>0</td>\n",
       "      <td>0</td>\n",
       "      <td>0</td>\n",
       "      <td>...</td>\n",
       "      <td>0</td>\n",
       "      <td>0</td>\n",
       "      <td>0</td>\n",
       "      <td>0</td>\n",
       "      <td>0</td>\n",
       "      <td>0</td>\n",
       "      <td>0</td>\n",
       "      <td>0</td>\n",
       "      <td>0</td>\n",
       "      <td>0</td>\n",
       "    </tr>\n",
       "    <tr>\n",
       "      <th>2</th>\n",
       "      <td>0</td>\n",
       "      <td>0</td>\n",
       "      <td>0</td>\n",
       "      <td>0</td>\n",
       "      <td>0</td>\n",
       "      <td>0</td>\n",
       "      <td>0</td>\n",
       "      <td>0</td>\n",
       "      <td>0</td>\n",
       "      <td>0</td>\n",
       "      <td>...</td>\n",
       "      <td>0</td>\n",
       "      <td>0</td>\n",
       "      <td>0</td>\n",
       "      <td>0</td>\n",
       "      <td>0</td>\n",
       "      <td>0</td>\n",
       "      <td>0</td>\n",
       "      <td>0</td>\n",
       "      <td>0</td>\n",
       "      <td>1</td>\n",
       "    </tr>\n",
       "    <tr>\n",
       "      <th>3</th>\n",
       "      <td>0</td>\n",
       "      <td>0</td>\n",
       "      <td>0</td>\n",
       "      <td>0</td>\n",
       "      <td>0</td>\n",
       "      <td>0</td>\n",
       "      <td>0</td>\n",
       "      <td>0</td>\n",
       "      <td>0</td>\n",
       "      <td>0</td>\n",
       "      <td>...</td>\n",
       "      <td>0</td>\n",
       "      <td>0</td>\n",
       "      <td>0</td>\n",
       "      <td>0</td>\n",
       "      <td>0</td>\n",
       "      <td>0</td>\n",
       "      <td>0</td>\n",
       "      <td>0</td>\n",
       "      <td>0</td>\n",
       "      <td>1</td>\n",
       "    </tr>\n",
       "    <tr>\n",
       "      <th>4</th>\n",
       "      <td>0</td>\n",
       "      <td>0</td>\n",
       "      <td>0</td>\n",
       "      <td>0</td>\n",
       "      <td>0</td>\n",
       "      <td>0</td>\n",
       "      <td>0</td>\n",
       "      <td>0</td>\n",
       "      <td>0</td>\n",
       "      <td>0</td>\n",
       "      <td>...</td>\n",
       "      <td>0</td>\n",
       "      <td>0</td>\n",
       "      <td>0</td>\n",
       "      <td>0</td>\n",
       "      <td>0</td>\n",
       "      <td>0</td>\n",
       "      <td>0</td>\n",
       "      <td>0</td>\n",
       "      <td>0</td>\n",
       "      <td>0</td>\n",
       "    </tr>\n",
       "  </tbody>\n",
       "</table>\n",
       "<p>5 rows × 2930 columns</p>\n",
       "</div>"
      ],
      "text/plain": [
       "   aade  aasfmvbl  able  about  above  absirfimrankhan  absolute  accnrnc  \\\n",
       "0     0         0     0      0      0                0         0        0   \n",
       "1     0         0     0      0      0                0         0        0   \n",
       "2     0         0     0      0      0                0         0        0   \n",
       "3     0         0     0      0      0                0         0        0   \n",
       "4     0         0     0      0      0                0         0        0   \n",
       "\n",
       "   according  accuse    ...     znof  zone  zrekuvo  zrx  zs  zt  ztr  zy  zz  \\\n",
       "0          0       0    ...        0     0        0    0   0   0    0   0   0   \n",
       "1          0       0    ...        0     0        0    0   0   0    0   0   0   \n",
       "2          0       0    ...        0     0        0    0   0   0    0   0   0   \n",
       "3          0       0    ...        0     0        0    0   0   0    0   0   0   \n",
       "4          0       0    ...        0     0        0    0   0   0    0   0   0   \n",
       "\n",
       "   y_target  \n",
       "0         0  \n",
       "1         0  \n",
       "2         1  \n",
       "3         1  \n",
       "4         0  \n",
       "\n",
       "[5 rows x 2930 columns]"
      ]
     },
     "execution_count": 18,
     "metadata": {},
     "output_type": "execute_result"
    }
   ],
   "source": [
    "count_df.head()"
   ]
  },
  {
   "cell_type": "code",
   "execution_count": 183,
   "metadata": {},
   "outputs": [],
   "source": [
    "model_columns = count_df.columns"
   ]
  },
  {
   "cell_type": "code",
   "execution_count": 185,
   "metadata": {},
   "outputs": [
    {
     "data": {
      "text/plain": [
       "2930"
      ]
     },
     "execution_count": 185,
     "metadata": {},
     "output_type": "execute_result"
    }
   ],
   "source": [
    "len(model_columns)"
   ]
  },
  {
   "cell_type": "markdown",
   "metadata": {},
   "source": [
    "### Drop unecessary columns\n",
    "*Note: Create list of columns fulfilling requirement and then drop those *"
   ]
  },
  {
   "cell_type": "code",
   "execution_count": 16,
   "metadata": {},
   "outputs": [],
   "source": [
    "def drop_cols(df, n):\n",
    "    for col in df.columns:\n",
    "        if df[col].sum() < n:\n",
    "            df.drop(col, axis = 1, inplace= True)\n",
    "    return df"
   ]
  },
  {
   "cell_type": "markdown",
   "metadata": {},
   "source": [
    "## Rebalance Classes"
   ]
  },
  {
   "cell_type": "markdown",
   "metadata": {},
   "source": [
    "We're going to explore the f1 score for the minority group using different k's and then plots the resulting score against the chosen k. We will use this plot to determine the optimal k to maximize the predictions of our minority group, where tsunami = 1."
   ]
  },
  {
   "cell_type": "code",
   "execution_count": 162,
   "metadata": {
    "scrolled": true
   },
   "outputs": [],
   "source": [
    "#Instantiate a model\n",
    "#lr = LogisticRegression()\n",
    "\n",
    "def find_ks(models, X_train, X_test, y_train, y_test):\n",
    "    model_dict = {}\n",
    "    for m in models:\n",
    "        scores = {}\n",
    "        model = m\n",
    "        for k in range(1,20):\n",
    "            #Instantiate Smote\n",
    "            sm = SMOTE(ratio = 'minority', k_neighbors=k, random_state=240)\n",
    "            #Fit smote\n",
    "            X_smote, y_smote = sm.fit_sample(X_train, y_train)\n",
    "            #Fit model\n",
    "            model.fit(X_smote,y_smote)\n",
    "            #Predict\n",
    "            smote_predict = model.predict(X_test)\n",
    "            #Find f1 score\n",
    "            f1_smote = f1_score(y_test, smote_predict)\n",
    "            #add f1 \n",
    "            scores[k] = f1_smote\n",
    "            sns.set_style(\"whitegrid\") #Set the matplotlib parameters\n",
    "            plt.scatter(k, f1_smote)\n",
    "            plt.title(label = m)\n",
    "        model_dict[m] = scores\n",
    "        \n",
    "    return model_dict\n",
    "        "
   ]
  },
  {
   "cell_type": "code",
   "execution_count": 163,
   "metadata": {},
   "outputs": [
    {
     "data": {
      "text/plain": [
       "{LogisticRegression(C=1.0, class_weight=None, dual=False, fit_intercept=True,\n",
       "           intercept_scaling=1, max_iter=100, multi_class='warn',\n",
       "           n_jobs=None, penalty='l2', random_state=None, solver='warn',\n",
       "           tol=0.0001, verbose=0, warm_start=False): {1: 0.5333333333333333,\n",
       "  2: 0.5106382978723405,\n",
       "  3: 0.5,\n",
       "  4: 0.4583333333333333,\n",
       "  5: 0.5106382978723405,\n",
       "  6: 0.5490196078431372,\n",
       "  7: 0.5,\n",
       "  8: 0.5306122448979592,\n",
       "  9: 0.5199999999999999,\n",
       "  10: 0.5,\n",
       "  11: 0.5306122448979592,\n",
       "  12: 0.5306122448979592,\n",
       "  13: 0.48000000000000004,\n",
       "  14: 0.5599999999999999,\n",
       "  15: 0.5416666666666666,\n",
       "  16: 0.5306122448979592,\n",
       "  17: 0.5833333333333333,\n",
       "  18: 0.5416666666666666,\n",
       "  19: 0.5714285714285714},\n",
       " DecisionTreeClassifier(class_weight=None, criterion='gini', max_depth=None,\n",
       "             max_features=None, max_leaf_nodes=None,\n",
       "             min_impurity_decrease=0.0, min_impurity_split=None,\n",
       "             min_samples_leaf=1, min_samples_split=2,\n",
       "             min_weight_fraction_leaf=0.0, presort=False, random_state=None,\n",
       "             splitter='best'): {1: 0.5,\n",
       "  2: 0.5,\n",
       "  3: 0.5833333333333333,\n",
       "  4: 0.35555555555555557,\n",
       "  5: 0.44,\n",
       "  6: 0.5,\n",
       "  7: 0.5106382978723405,\n",
       "  8: 0.4444444444444445,\n",
       "  9: 0.3846153846153846,\n",
       "  10: 0.3921568627450981,\n",
       "  11: 0.48275862068965514,\n",
       "  12: 0.48387096774193544,\n",
       "  13: 0.45283018867924524,\n",
       "  14: 0.5098039215686274,\n",
       "  15: 0.5098039215686274,\n",
       "  16: 0.4489795918367347,\n",
       "  17: 0.4313725490196078,\n",
       "  18: 0.4313725490196078,\n",
       "  19: 0.456140350877193},\n",
       " BaggingClassifier(base_estimator=None, bootstrap=True,\n",
       "          bootstrap_features=False, max_features=1.0, max_samples=1.0,\n",
       "          n_estimators=10, n_jobs=None, oob_score=False, random_state=None,\n",
       "          verbose=0, warm_start=False): {1: 0.5957446808510638,\n",
       "  2: 0.4313725490196078,\n",
       "  3: 0.5909090909090909,\n",
       "  4: 0.5283018867924528,\n",
       "  5: 0.48979591836734687,\n",
       "  6: 0.48000000000000004,\n",
       "  7: 0.5,\n",
       "  8: 0.48148148148148157,\n",
       "  9: 0.46153846153846156,\n",
       "  10: 0.5199999999999999,\n",
       "  11: 0.5,\n",
       "  12: 0.5172413793103449,\n",
       "  13: 0.40740740740740744,\n",
       "  14: 0.48000000000000004,\n",
       "  15: 0.41666666666666663,\n",
       "  16: 0.45283018867924524,\n",
       "  17: 0.4642857142857143,\n",
       "  18: 0.48148148148148157,\n",
       "  19: 0.4375},\n",
       " RandomForestClassifier(bootstrap=True, class_weight=None, criterion='gini',\n",
       "             max_depth=None, max_features='auto', max_leaf_nodes=None,\n",
       "             min_impurity_decrease=0.0, min_impurity_split=None,\n",
       "             min_samples_leaf=1, min_samples_split=2,\n",
       "             min_weight_fraction_leaf=0.0, n_estimators=10, n_jobs=None,\n",
       "             oob_score=False, random_state=None, verbose=0,\n",
       "             warm_start=False): {1: 0.5,\n",
       "  2: 0.3859649122807018,\n",
       "  3: 0.4,\n",
       "  4: 0.48979591836734687,\n",
       "  5: 0.41509433962264153,\n",
       "  6: 0.4333333333333333,\n",
       "  7: 0.34375,\n",
       "  8: 0.3103448275862069,\n",
       "  9: 0.33962264150943394,\n",
       "  10: 0.44444444444444453,\n",
       "  11: 0.46666666666666673,\n",
       "  12: 0.3333333333333333,\n",
       "  13: 0.4482758620689655,\n",
       "  14: 0.4745762711864407,\n",
       "  15: 0.417910447761194,\n",
       "  16: 0.4727272727272727,\n",
       "  17: 0.3859649122807018,\n",
       "  18: 0.4126984126984127,\n",
       "  19: 0.4333333333333333},\n",
       " AdaBoostClassifier(algorithm='SAMME.R', base_estimator=None,\n",
       "           learning_rate=1.0, n_estimators=50, random_state=None): {1: 0.5116279069767442,\n",
       "  2: 0.48000000000000004,\n",
       "  3: 0.5333333333333333,\n",
       "  4: 0.5098039215686274,\n",
       "  5: 0.35555555555555557,\n",
       "  6: 0.48000000000000004,\n",
       "  7: 0.409090909090909,\n",
       "  8: 0.4347826086956522,\n",
       "  9: 0.4489795918367347,\n",
       "  10: 0.42553191489361697,\n",
       "  11: 0.48780487804878053,\n",
       "  12: 0.558139534883721,\n",
       "  13: 0.42553191489361697,\n",
       "  14: 0.4761904761904762,\n",
       "  15: 0.4705882352941177,\n",
       "  16: 0.44,\n",
       "  17: 0.48780487804878053,\n",
       "  18: 0.4761904761904762,\n",
       "  19: 0.4583333333333333}}"
      ]
     },
     "execution_count": 163,
     "metadata": {},
     "output_type": "execute_result"
    },
    {
     "data": {
      "image/png": "[encoded data removed]",
      "text/plain": [
       "<Figure size 432x288 with 1 Axes>"
      ]
     },
     "metadata": {},
     "output_type": "display_data"
    }
   ],
   "source": [
    "find_ks(models, X_train, X_test, y_train, y_test)"
   ]
  },
  {
   "cell_type": "markdown",
   "metadata": {},
   "source": [
    "The f1 scores of note using regular X and y train/test split data were for a Decision Tree Classifier with a k value of 3 (0.58), a Bagging Classifier with a k value of 3 (0.59), and a Logistic Regression with a k value of 17 (0.58)."
   ]
  },
  {
   "cell_type": "code",
   "execution_count": 164,
   "metadata": {},
   "outputs": [],
   "source": [
    "X = count_df.drop('y_target', axis = 1)\n",
    "y = count_df['y_target']"
   ]
  },
  {
   "cell_type": "code",
   "execution_count": 170,
   "metadata": {},
   "outputs": [],
   "source": [
    "#Instantiate and fit the SMOTE rebalancing using k = 17 for Logistic Regression\n",
    "sm = SMOTE(ratio='minority',k_neighbors=17, random_state=240)\n",
    "X_smote, y_smote = sm.fit_sample(X, y)"
   ]
  },
  {
   "cell_type": "code",
   "execution_count": 173,
   "metadata": {},
   "outputs": [
    {
     "data": {
      "text/plain": [
       "564"
      ]
     },
     "execution_count": 173,
     "metadata": {},
     "output_type": "execute_result"
    }
   ],
   "source": [
    "len(X_smote)"
   ]
  },
  {
   "cell_type": "code",
   "execution_count": 174,
   "metadata": {},
   "outputs": [
    {
     "data": {
      "text/plain": [
       "564"
      ]
     },
     "execution_count": 174,
     "metadata": {},
     "output_type": "execute_result"
    }
   ],
   "source": [
    "len(y_smote)"
   ]
  },
  {
   "cell_type": "markdown",
   "metadata": {},
   "source": [
    "## Train/Test Split: unchanged data"
   ]
  },
  {
   "cell_type": "code",
   "execution_count": 171,
   "metadata": {},
   "outputs": [],
   "source": [
    "X_train, X_test, y_train, y_test = train_test_split(X, y, random_state = 42, stratify=y)"
   ]
  },
  {
   "cell_type": "code",
   "execution_count": 20,
   "metadata": {
    "scrolled": false
   },
   "outputs": [
    {
     "data": {
      "text/html": [
       "<div>\n",
       "<style scoped>\n",
       "    .dataframe tbody tr th:only-of-type {\n",
       "        vertical-align: middle;\n",
       "    }\n",
       "\n",
       "    .dataframe tbody tr th {\n",
       "        vertical-align: top;\n",
       "    }\n",
       "\n",
       "    .dataframe thead th {\n",
       "        text-align: right;\n",
       "    }\n",
       "</style>\n",
       "<table border=\"1\" class=\"dataframe\">\n",
       "  <thead>\n",
       "    <tr style=\"text-align: right;\">\n",
       "      <th></th>\n",
       "      <th>aade</th>\n",
       "      <th>aasfmvbl</th>\n",
       "      <th>able</th>\n",
       "      <th>about</th>\n",
       "      <th>above</th>\n",
       "      <th>absirfimrankhan</th>\n",
       "      <th>absolute</th>\n",
       "      <th>accnrnc</th>\n",
       "      <th>according</th>\n",
       "      <th>accuse</th>\n",
       "      <th>...</th>\n",
       "      <th>zjm</th>\n",
       "      <th>znof</th>\n",
       "      <th>zone</th>\n",
       "      <th>zrekuvo</th>\n",
       "      <th>zrx</th>\n",
       "      <th>zs</th>\n",
       "      <th>zt</th>\n",
       "      <th>ztr</th>\n",
       "      <th>zy</th>\n",
       "      <th>zz</th>\n",
       "    </tr>\n",
       "  </thead>\n",
       "  <tbody>\n",
       "    <tr>\n",
       "      <th>280</th>\n",
       "      <td>0</td>\n",
       "      <td>0</td>\n",
       "      <td>0</td>\n",
       "      <td>0</td>\n",
       "      <td>0</td>\n",
       "      <td>0</td>\n",
       "      <td>0</td>\n",
       "      <td>0</td>\n",
       "      <td>0</td>\n",
       "      <td>0</td>\n",
       "      <td>...</td>\n",
       "      <td>0</td>\n",
       "      <td>0</td>\n",
       "      <td>0</td>\n",
       "      <td>0</td>\n",
       "      <td>0</td>\n",
       "      <td>0</td>\n",
       "      <td>0</td>\n",
       "      <td>0</td>\n",
       "      <td>0</td>\n",
       "      <td>0</td>\n",
       "    </tr>\n",
       "    <tr>\n",
       "      <th>33</th>\n",
       "      <td>0</td>\n",
       "      <td>0</td>\n",
       "      <td>0</td>\n",
       "      <td>0</td>\n",
       "      <td>0</td>\n",
       "      <td>0</td>\n",
       "      <td>0</td>\n",
       "      <td>0</td>\n",
       "      <td>0</td>\n",
       "      <td>0</td>\n",
       "      <td>...</td>\n",
       "      <td>0</td>\n",
       "      <td>0</td>\n",
       "      <td>0</td>\n",
       "      <td>0</td>\n",
       "      <td>0</td>\n",
       "      <td>0</td>\n",
       "      <td>0</td>\n",
       "      <td>0</td>\n",
       "      <td>0</td>\n",
       "      <td>0</td>\n",
       "    </tr>\n",
       "    <tr>\n",
       "      <th>40</th>\n",
       "      <td>0</td>\n",
       "      <td>0</td>\n",
       "      <td>0</td>\n",
       "      <td>0</td>\n",
       "      <td>0</td>\n",
       "      <td>0</td>\n",
       "      <td>0</td>\n",
       "      <td>0</td>\n",
       "      <td>0</td>\n",
       "      <td>0</td>\n",
       "      <td>...</td>\n",
       "      <td>0</td>\n",
       "      <td>0</td>\n",
       "      <td>0</td>\n",
       "      <td>0</td>\n",
       "      <td>0</td>\n",
       "      <td>0</td>\n",
       "      <td>0</td>\n",
       "      <td>0</td>\n",
       "      <td>0</td>\n",
       "      <td>0</td>\n",
       "    </tr>\n",
       "    <tr>\n",
       "      <th>179</th>\n",
       "      <td>0</td>\n",
       "      <td>0</td>\n",
       "      <td>0</td>\n",
       "      <td>0</td>\n",
       "      <td>0</td>\n",
       "      <td>1</td>\n",
       "      <td>0</td>\n",
       "      <td>0</td>\n",
       "      <td>0</td>\n",
       "      <td>0</td>\n",
       "      <td>...</td>\n",
       "      <td>0</td>\n",
       "      <td>0</td>\n",
       "      <td>0</td>\n",
       "      <td>0</td>\n",
       "      <td>0</td>\n",
       "      <td>0</td>\n",
       "      <td>0</td>\n",
       "      <td>0</td>\n",
       "      <td>0</td>\n",
       "      <td>0</td>\n",
       "    </tr>\n",
       "    <tr>\n",
       "      <th>214</th>\n",
       "      <td>0</td>\n",
       "      <td>0</td>\n",
       "      <td>0</td>\n",
       "      <td>0</td>\n",
       "      <td>0</td>\n",
       "      <td>0</td>\n",
       "      <td>0</td>\n",
       "      <td>0</td>\n",
       "      <td>0</td>\n",
       "      <td>0</td>\n",
       "      <td>...</td>\n",
       "      <td>0</td>\n",
       "      <td>0</td>\n",
       "      <td>0</td>\n",
       "      <td>0</td>\n",
       "      <td>0</td>\n",
       "      <td>0</td>\n",
       "      <td>0</td>\n",
       "      <td>0</td>\n",
       "      <td>0</td>\n",
       "      <td>0</td>\n",
       "    </tr>\n",
       "  </tbody>\n",
       "</table>\n",
       "<p>5 rows × 2929 columns</p>\n",
       "</div>"
      ],
      "text/plain": [
       "     aade  aasfmvbl  able  about  above  absirfimrankhan  absolute  accnrnc  \\\n",
       "280     0         0     0      0      0                0         0        0   \n",
       "33      0         0     0      0      0                0         0        0   \n",
       "40      0         0     0      0      0                0         0        0   \n",
       "179     0         0     0      0      0                1         0        0   \n",
       "214     0         0     0      0      0                0         0        0   \n",
       "\n",
       "     according  accuse ...  zjm  znof  zone  zrekuvo  zrx  zs  zt  ztr  zy  zz  \n",
       "280          0       0 ...    0     0     0        0    0   0   0    0   0   0  \n",
       "33           0       0 ...    0     0     0        0    0   0   0    0   0   0  \n",
       "40           0       0 ...    0     0     0        0    0   0   0    0   0   0  \n",
       "179          0       0 ...    0     0     0        0    0   0   0    0   0   0  \n",
       "214          0       0 ...    0     0     0        0    0   0   0    0   0   0  \n",
       "\n",
       "[5 rows x 2929 columns]"
      ]
     },
     "execution_count": 20,
     "metadata": {},
     "output_type": "execute_result"
    }
   ],
   "source": [
    "X_train.head()"
   ]
  },
  {
   "cell_type": "markdown",
   "metadata": {},
   "source": [
    "## Train/Test Split: Rebalanced Data"
   ]
  },
  {
   "cell_type": "code",
   "execution_count": 175,
   "metadata": {},
   "outputs": [],
   "source": [
    "X_smote_train, X_smote_test, y_smote_train, y_smote_test = train_test_split(X_smote, \n",
    "                                                                            y_smote, \n",
    "                                                                            random_state = 42)"
   ]
  },
  {
   "cell_type": "markdown",
   "metadata": {},
   "source": [
    "## Principle Component Analysis (PCA) with imbalanced classes"
   ]
  },
  {
   "cell_type": "code",
   "execution_count": 21,
   "metadata": {},
   "outputs": [],
   "source": [
    "pca = PCA()\n",
    "pca.fit(X_train)\n",
    "\n",
    "Z_train = pca.transform(X_train)\n",
    "Z_test = pca.transform(X_test)"
   ]
  },
  {
   "cell_type": "code",
   "execution_count": 123,
   "metadata": {},
   "outputs": [
    {
     "data": {
      "text/plain": [
       "262"
      ]
     },
     "execution_count": 123,
     "metadata": {},
     "output_type": "execute_result"
    }
   ],
   "source": [
    "len(pca.components_)"
   ]
  },
  {
   "cell_type": "markdown",
   "metadata": {},
   "source": [
    "## PCA with SMOTE rebalanced data"
   ]
  },
  {
   "cell_type": "code",
   "execution_count": 178,
   "metadata": {},
   "outputs": [],
   "source": [
    "pca_smote = PCA()\n",
    "pca_smote.fit(X_smote_train)\n",
    "\n",
    "Z_smote_train = pca_smote.transform(X_smote_train)\n",
    "Z_smote_test = pca_smote.transform(X_smote_test)"
   ]
  },
  {
   "cell_type": "markdown",
   "metadata": {},
   "source": [
    "## Cross Validation\n",
    "It's important to understand which metric to optimize on. In this case, we will aim to optimize on f-1 score as it takes into account both precision and recall."
   ]
  },
  {
   "cell_type": "code",
   "execution_count": 136,
   "metadata": {},
   "outputs": [],
   "source": [
    "#Create a function to iterate through multiple cross validation scores and put them in a dataframe\n",
    "\n",
    "#Models is a list of models to cross val score on\n",
    "def find_cross_val_f1(models, X, y, cv):\n",
    "    scores = {}\n",
    "    for i in models: \n",
    "        scores[str(i)] = cross_validate(i, X, y, cv = 5, scoring='f1')['test_score'].mean()\n",
    "    return scores\n",
    "#pd.DataFrame(scores, columns = ['model', 'cv_score'])"
   ]
  },
  {
   "cell_type": "code",
   "execution_count": 155,
   "metadata": {},
   "outputs": [],
   "source": [
    "models = [LogisticRegression(), \n",
    "          DecisionTreeClassifier(), \n",
    "          BaggingClassifier(), \n",
    "          RandomForestClassifier(), \n",
    "          AdaBoostClassifier(), ]"
   ]
  },
  {
   "cell_type": "code",
   "execution_count": 35,
   "metadata": {},
   "outputs": [
    {
     "data": {
      "text/plain": [
       "0.8545584045584047"
      ]
     },
     "execution_count": 35,
     "metadata": {},
     "output_type": "execute_result"
    }
   ],
   "source": [
    "cross_val_score(LogisticRegression(), Z_train, y_train, cv = 5).mean()"
   ]
  },
  {
   "cell_type": "code",
   "execution_count": 38,
   "metadata": {},
   "outputs": [],
   "source": [
    "cv_scores = find_cross_val_scores(models, Z_train, y_train, 5)"
   ]
  },
  {
   "cell_type": "markdown",
   "metadata": {},
   "source": [
    "Below are the accuracy scores of cross validation from five different models."
   ]
  },
  {
   "cell_type": "code",
   "execution_count": 46,
   "metadata": {
    "scrolled": true
   },
   "outputs": [
    {
     "data": {
      "text/html": [
       "<div>\n",
       "<style scoped>\n",
       "    .dataframe tbody tr th:only-of-type {\n",
       "        vertical-align: middle;\n",
       "    }\n",
       "\n",
       "    .dataframe tbody tr th {\n",
       "        vertical-align: top;\n",
       "    }\n",
       "\n",
       "    .dataframe thead th {\n",
       "        text-align: right;\n",
       "    }\n",
       "</style>\n",
       "<table border=\"1\" class=\"dataframe\">\n",
       "  <thead>\n",
       "    <tr style=\"text-align: right;\">\n",
       "      <th></th>\n",
       "      <th>LogisticRegression(C=1.0, class_weight=None, dual=False, fit_intercept=True,\n",
       "          intercept_scaling=1, max_iter=100, multi_class='warn',\n",
       "          n_jobs=None, penalty='l2', random_state=None, solver='warn',\n",
       "          tol=0.0001, verbose=0, warm_start=False)</th>\n",
       "      <th>DecisionTreeClassifier(class_weight=None, criterion='gini', max_depth=None,\n",
       "            max_features=None, max_leaf_nodes=None,\n",
       "            min_impurity_decrease=0.0, min_impurity_split=None,\n",
       "            min_samples_leaf=1, min_samples_split=2,\n",
       "            min_weight_fraction_leaf=0.0, presort=False, random_state=None,\n",
       "            splitter='best')</th>\n",
       "      <th>BaggingClassifier(base_estimator=None, bootstrap=True,\n",
       "         bootstrap_features=False, max_features=1.0, max_samples=1.0,\n",
       "         n_estimators=10, n_jobs=None, oob_score=False, random_state=None,\n",
       "         verbose=0, warm_start=False)</th>\n",
       "      <th>RandomForestClassifier(bootstrap=True, class_weight=None, criterion='gini',\n",
       "            max_depth=None, max_features='auto', max_leaf_nodes=None,\n",
       "            min_impurity_decrease=0.0, min_impurity_split=None,\n",
       "            min_samples_leaf=1, min_samples_split=2,\n",
       "            min_weight_fraction_leaf=0.0, n_estimators='warn', n_jobs=None,\n",
       "            oob_score=False, random_state=None, verbose=0,\n",
       "            warm_start=False)</th>\n",
       "      <th>AdaBoostClassifier(algorithm='SAMME.R', base_estimator=None,\n",
       "          learning_rate=1.0, n_estimators=50, random_state=None)</th>\n",
       "    </tr>\n",
       "  </thead>\n",
       "  <tbody>\n",
       "    <tr>\n",
       "      <th>0</th>\n",
       "      <td>0.854558</td>\n",
       "      <td>0.756838</td>\n",
       "      <td>0.787037</td>\n",
       "      <td>0.801709</td>\n",
       "      <td>0.802279</td>\n",
       "    </tr>\n",
       "  </tbody>\n",
       "</table>\n",
       "</div>"
      ],
      "text/plain": [
       "   LogisticRegression(C=1.0, class_weight=None, dual=False, fit_intercept=True,\\n          intercept_scaling=1, max_iter=100, multi_class='warn',\\n          n_jobs=None, penalty='l2', random_state=None, solver='warn',\\n          tol=0.0001, verbose=0, warm_start=False)  \\\n",
       "0                                           0.854558                                                                                                                                                                                                                            \n",
       "\n",
       "   DecisionTreeClassifier(class_weight=None, criterion='gini', max_depth=None,\\n            max_features=None, max_leaf_nodes=None,\\n            min_impurity_decrease=0.0, min_impurity_split=None,\\n            min_samples_leaf=1, min_samples_split=2,\\n            min_weight_fraction_leaf=0.0, presort=False, random_state=None,\\n            splitter='best')  \\\n",
       "0                                           0.756838                                                                                                                                                                                                                                                                                                                    \n",
       "\n",
       "   BaggingClassifier(base_estimator=None, bootstrap=True,\\n         bootstrap_features=False, max_features=1.0, max_samples=1.0,\\n         n_estimators=10, n_jobs=None, oob_score=False, random_state=None,\\n         verbose=0, warm_start=False)  \\\n",
       "0                                           0.787037                                                                                                                                                                                                  \n",
       "\n",
       "   RandomForestClassifier(bootstrap=True, class_weight=None, criterion='gini',\\n            max_depth=None, max_features='auto', max_leaf_nodes=None,\\n            min_impurity_decrease=0.0, min_impurity_split=None,\\n            min_samples_leaf=1, min_samples_split=2,\\n            min_weight_fraction_leaf=0.0, n_estimators='warn', n_jobs=None,\\n            oob_score=False, random_state=None, verbose=0,\\n            warm_start=False)  \\\n",
       "0                                           0.801709                                                                                                                                                                                                                                                                                                                                                                                                   \n",
       "\n",
       "   AdaBoostClassifier(algorithm='SAMME.R', base_estimator=None,\\n          learning_rate=1.0, n_estimators=50, random_state=None)  \n",
       "0                                           0.802279                                                                               "
      ]
     },
     "execution_count": 46,
     "metadata": {},
     "output_type": "execute_result"
    }
   ],
   "source": [
    "pd.DataFrame(cv_scores, index = range(0,1))"
   ]
  },
  {
   "cell_type": "markdown",
   "metadata": {},
   "source": [
    "However, we are more interested in the f1 scores, which can be seen below."
   ]
  },
  {
   "cell_type": "code",
   "execution_count": 138,
   "metadata": {},
   "outputs": [
    {
     "name": "stderr",
     "output_type": "stream",
     "text": [
      "/Users/edithiyerhernandez/anaconda3/lib/python3.6/site-packages/sklearn/metrics/classification.py:1143: UndefinedMetricWarning: F-score is ill-defined and being set to 0.0 due to no predicted samples.\n",
      "  'precision', 'predicted', average, warn_for)\n"
     ]
    }
   ],
   "source": [
    "f1_scores = find_cross_val_f1(models, Z_train, y_train, cv = 5)"
   ]
  },
  {
   "cell_type": "code",
   "execution_count": 139,
   "metadata": {},
   "outputs": [
    {
     "data": {
      "text/html": [
       "<div>\n",
       "<style scoped>\n",
       "    .dataframe tbody tr th:only-of-type {\n",
       "        vertical-align: middle;\n",
       "    }\n",
       "\n",
       "    .dataframe tbody tr th {\n",
       "        vertical-align: top;\n",
       "    }\n",
       "\n",
       "    .dataframe thead th {\n",
       "        text-align: right;\n",
       "    }\n",
       "</style>\n",
       "<table border=\"1\" class=\"dataframe\">\n",
       "  <thead>\n",
       "    <tr style=\"text-align: right;\">\n",
       "      <th></th>\n",
       "      <th>LogisticRegression(C=1.0, class_weight=None, dual=False, fit_intercept=True,\n",
       "          intercept_scaling=1, max_iter=100, multi_class='warn',\n",
       "          n_jobs=None, penalty='l2', random_state=None, solver='warn',\n",
       "          tol=0.0001, verbose=0, warm_start=False)</th>\n",
       "      <th>DecisionTreeClassifier(class_weight=None, criterion='gini', max_depth=None,\n",
       "            max_features=None, max_leaf_nodes=None,\n",
       "            min_impurity_decrease=0.0, min_impurity_split=None,\n",
       "            min_samples_leaf=1, min_samples_split=2,\n",
       "            min_weight_fraction_leaf=0.0, presort=False, random_state=None,\n",
       "            splitter='best')</th>\n",
       "      <th>BaggingClassifier(base_estimator=None, bootstrap=True,\n",
       "         bootstrap_features=False, max_features=1.0, max_samples=1.0,\n",
       "         n_estimators=10, n_jobs=None, oob_score=False, random_state=None,\n",
       "         verbose=0, warm_start=False)</th>\n",
       "      <th>RandomForestClassifier(bootstrap=True, class_weight=None, criterion='gini',\n",
       "            max_depth=None, max_features='auto', max_leaf_nodes=None,\n",
       "            min_impurity_decrease=0.0, min_impurity_split=None,\n",
       "            min_samples_leaf=1, min_samples_split=2,\n",
       "            min_weight_fraction_leaf=0.0, n_estimators='warn', n_jobs=None,\n",
       "            oob_score=False, random_state=None, verbose=0,\n",
       "            warm_start=False)</th>\n",
       "      <th>AdaBoostClassifier(algorithm='SAMME.R', base_estimator=None,\n",
       "          learning_rate=1.0, n_estimators=50, random_state=None)</th>\n",
       "    </tr>\n",
       "  </thead>\n",
       "  <tbody>\n",
       "    <tr>\n",
       "      <th>0</th>\n",
       "      <td>0.492605</td>\n",
       "      <td>0.417899</td>\n",
       "      <td>0.165983</td>\n",
       "      <td>0.20696</td>\n",
       "      <td>0.375</td>\n",
       "    </tr>\n",
       "  </tbody>\n",
       "</table>\n",
       "</div>"
      ],
      "text/plain": [
       "   LogisticRegression(C=1.0, class_weight=None, dual=False, fit_intercept=True,\\n          intercept_scaling=1, max_iter=100, multi_class='warn',\\n          n_jobs=None, penalty='l2', random_state=None, solver='warn',\\n          tol=0.0001, verbose=0, warm_start=False)  \\\n",
       "0                                           0.492605                                                                                                                                                                                                                            \n",
       "\n",
       "   DecisionTreeClassifier(class_weight=None, criterion='gini', max_depth=None,\\n            max_features=None, max_leaf_nodes=None,\\n            min_impurity_decrease=0.0, min_impurity_split=None,\\n            min_samples_leaf=1, min_samples_split=2,\\n            min_weight_fraction_leaf=0.0, presort=False, random_state=None,\\n            splitter='best')  \\\n",
       "0                                           0.417899                                                                                                                                                                                                                                                                                                                    \n",
       "\n",
       "   BaggingClassifier(base_estimator=None, bootstrap=True,\\n         bootstrap_features=False, max_features=1.0, max_samples=1.0,\\n         n_estimators=10, n_jobs=None, oob_score=False, random_state=None,\\n         verbose=0, warm_start=False)  \\\n",
       "0                                           0.165983                                                                                                                                                                                                  \n",
       "\n",
       "   RandomForestClassifier(bootstrap=True, class_weight=None, criterion='gini',\\n            max_depth=None, max_features='auto', max_leaf_nodes=None,\\n            min_impurity_decrease=0.0, min_impurity_split=None,\\n            min_samples_leaf=1, min_samples_split=2,\\n            min_weight_fraction_leaf=0.0, n_estimators='warn', n_jobs=None,\\n            oob_score=False, random_state=None, verbose=0,\\n            warm_start=False)  \\\n",
       "0                                            0.20696                                                                                                                                                                                                                                                                                                                                                                                                   \n",
       "\n",
       "   AdaBoostClassifier(algorithm='SAMME.R', base_estimator=None,\\n          learning_rate=1.0, n_estimators=50, random_state=None)  \n",
       "0                                              0.375                                                                               "
      ]
     },
     "execution_count": 139,
     "metadata": {},
     "output_type": "execute_result"
    }
   ],
   "source": [
    "pd.DataFrame(f1_scores, index = range(0,1))"
   ]
  },
  {
   "cell_type": "markdown",
   "metadata": {},
   "source": [
    "### Which models performed the best before rebalancing the classes"
   ]
  },
  {
   "cell_type": "markdown",
   "metadata": {},
   "source": [
    "#### Accuracy\n",
    "1. Logistic Regression: 0.854558\n",
    "2. Random Forest: 0.801709\n",
    "3. AdaBoost Classifier: 0.802279\n",
    "\n",
    "#### F1 Score\n",
    "1. Logistic Regression: 0.492605\n",
    "2. Decision Tree Classifier: 0.417899"
   ]
  },
  {
   "cell_type": "markdown",
   "metadata": {},
   "source": [
    "Below, we will run the cross validated f1 scores using SMOTE rebalanced data optimized for Logistic Regression with `k = 17`."
   ]
  },
  {
   "cell_type": "code",
   "execution_count": 182,
   "metadata": {
    "scrolled": true
   },
   "outputs": [
    {
     "data": {
      "text/html": [
       "<div>\n",
       "<style scoped>\n",
       "    .dataframe tbody tr th:only-of-type {\n",
       "        vertical-align: middle;\n",
       "    }\n",
       "\n",
       "    .dataframe tbody tr th {\n",
       "        vertical-align: top;\n",
       "    }\n",
       "\n",
       "    .dataframe thead th {\n",
       "        text-align: right;\n",
       "    }\n",
       "</style>\n",
       "<table border=\"1\" class=\"dataframe\">\n",
       "  <thead>\n",
       "    <tr style=\"text-align: right;\">\n",
       "      <th></th>\n",
       "      <th>LogisticRegression(C=1.0, class_weight=None, dual=False, fit_intercept=True,\n",
       "          intercept_scaling=1, max_iter=100, multi_class='warn',\n",
       "          n_jobs=None, penalty='l2', random_state=None, solver='warn',\n",
       "          tol=0.0001, verbose=0, warm_start=False)</th>\n",
       "      <th>DecisionTreeClassifier(class_weight=None, criterion='gini', max_depth=None,\n",
       "            max_features=None, max_leaf_nodes=None,\n",
       "            min_impurity_decrease=0.0, min_impurity_split=None,\n",
       "            min_samples_leaf=1, min_samples_split=2,\n",
       "            min_weight_fraction_leaf=0.0, presort=False, random_state=None,\n",
       "            splitter='best')</th>\n",
       "      <th>BaggingClassifier(base_estimator=None, bootstrap=True,\n",
       "         bootstrap_features=False, max_features=1.0, max_samples=1.0,\n",
       "         n_estimators=10, n_jobs=None, oob_score=False, random_state=None,\n",
       "         verbose=0, warm_start=False)</th>\n",
       "      <th>RandomForestClassifier(bootstrap=True, class_weight=None, criterion='gini',\n",
       "            max_depth=None, max_features='auto', max_leaf_nodes=None,\n",
       "            min_impurity_decrease=0.0, min_impurity_split=None,\n",
       "            min_samples_leaf=1, min_samples_split=2,\n",
       "            min_weight_fraction_leaf=0.0, n_estimators=10, n_jobs=None,\n",
       "            oob_score=False, random_state=None, verbose=0,\n",
       "            warm_start=False)</th>\n",
       "      <th>AdaBoostClassifier(algorithm='SAMME.R', base_estimator=None,\n",
       "          learning_rate=1.0, n_estimators=50, random_state=None)</th>\n",
       "    </tr>\n",
       "  </thead>\n",
       "  <tbody>\n",
       "    <tr>\n",
       "      <th>0</th>\n",
       "      <td>0.826195</td>\n",
       "      <td>0.856884</td>\n",
       "      <td>0.854783</td>\n",
       "      <td>0.869817</td>\n",
       "      <td>0.864876</td>\n",
       "    </tr>\n",
       "  </tbody>\n",
       "</table>\n",
       "</div>"
      ],
      "text/plain": [
       "   LogisticRegression(C=1.0, class_weight=None, dual=False, fit_intercept=True,\\n          intercept_scaling=1, max_iter=100, multi_class='warn',\\n          n_jobs=None, penalty='l2', random_state=None, solver='warn',\\n          tol=0.0001, verbose=0, warm_start=False)  \\\n",
       "0                                           0.826195                                                                                                                                                                                                                            \n",
       "\n",
       "   DecisionTreeClassifier(class_weight=None, criterion='gini', max_depth=None,\\n            max_features=None, max_leaf_nodes=None,\\n            min_impurity_decrease=0.0, min_impurity_split=None,\\n            min_samples_leaf=1, min_samples_split=2,\\n            min_weight_fraction_leaf=0.0, presort=False, random_state=None,\\n            splitter='best')  \\\n",
       "0                                           0.856884                                                                                                                                                                                                                                                                                                                    \n",
       "\n",
       "   BaggingClassifier(base_estimator=None, bootstrap=True,\\n         bootstrap_features=False, max_features=1.0, max_samples=1.0,\\n         n_estimators=10, n_jobs=None, oob_score=False, random_state=None,\\n         verbose=0, warm_start=False)  \\\n",
       "0                                           0.854783                                                                                                                                                                                                  \n",
       "\n",
       "   RandomForestClassifier(bootstrap=True, class_weight=None, criterion='gini',\\n            max_depth=None, max_features='auto', max_leaf_nodes=None,\\n            min_impurity_decrease=0.0, min_impurity_split=None,\\n            min_samples_leaf=1, min_samples_split=2,\\n            min_weight_fraction_leaf=0.0, n_estimators=10, n_jobs=None,\\n            oob_score=False, random_state=None, verbose=0,\\n            warm_start=False)  \\\n",
       "0                                           0.869817                                                                                                                                                                                                                                                                                                                                                                                               \n",
       "\n",
       "   AdaBoostClassifier(algorithm='SAMME.R', base_estimator=None,\\n          learning_rate=1.0, n_estimators=50, random_state=None)  \n",
       "0                                           0.864876                                                                               "
      ]
     },
     "execution_count": 182,
     "metadata": {},
     "output_type": "execute_result"
    }
   ],
   "source": [
    "pd.DataFrame((find_cross_val_f1(models, Z_smote_train, y_smote_train, 5)), index = range(0,1))"
   ]
  },
  {
   "cell_type": "markdown",
   "metadata": {},
   "source": [
    "### Which models performed best after SMOTE transform"
   ]
  },
  {
   "cell_type": "markdown",
   "metadata": {},
   "source": [
    "#### F1 Scores\n",
    "1. Random Forest: 0.869817\n",
    "2. AdaBoost: 0.864876\n",
    "<br>\n",
    "\n",
    "This is surprising because we optimized the k value for Logistic Regression that we found earlier when performing a manual gridsearch on possible k values. A few of the other models had the highest scores when using k = 3 or k =4. We will therefore try both of these using the function `smote_pca_cross_val()`.\n"
   ]
  },
  {
   "cell_type": "code",
   "execution_count": 191,
   "metadata": {},
   "outputs": [],
   "source": [
    "def smote_pca_cross_val(k, X, y, models):\n",
    "    sm = SMOTE(ratio='minority', k_neighbors=k, random_state = 240)\n",
    "    X_smote, y_smote = sm.fit_sample(X, y)\n",
    "    X_smote_train, X_smote_test, y_smote_train, y_smote_test = train_test_split(X_smote,\n",
    "                                                                                y_smote,\n",
    "                                                                               random_state = 42)\n",
    "    pca_smote = PCA()\n",
    "    pca_smote.fit(X_smote_train)\n",
    "    \n",
    "    Z_smote_train = pca_smote.transform(X_smote_train)\n",
    "    Z_smote_test = pca_smote.transform(X_smote_test)\n",
    "    \n",
    "    return pd.DataFrame((find_cross_val_f1(models, Z_smote_train, y_smote_train, 5)), index = range(0,1))"
   ]
  },
  {
   "cell_type": "markdown",
   "metadata": {},
   "source": [
    "### k = 4"
   ]
  },
  {
   "cell_type": "code",
   "execution_count": 192,
   "metadata": {},
   "outputs": [
    {
     "data": {
      "text/html": [
       "<div>\n",
       "<style scoped>\n",
       "    .dataframe tbody tr th:only-of-type {\n",
       "        vertical-align: middle;\n",
       "    }\n",
       "\n",
       "    .dataframe tbody tr th {\n",
       "        vertical-align: top;\n",
       "    }\n",
       "\n",
       "    .dataframe thead th {\n",
       "        text-align: right;\n",
       "    }\n",
       "</style>\n",
       "<table border=\"1\" class=\"dataframe\">\n",
       "  <thead>\n",
       "    <tr style=\"text-align: right;\">\n",
       "      <th></th>\n",
       "      <th>LogisticRegression(C=1.0, class_weight=None, dual=False, fit_intercept=True,\n",
       "          intercept_scaling=1, max_iter=100, multi_class='warn',\n",
       "          n_jobs=None, penalty='l2', random_state=None, solver='warn',\n",
       "          tol=0.0001, verbose=0, warm_start=False)</th>\n",
       "      <th>DecisionTreeClassifier(class_weight=None, criterion='gini', max_depth=None,\n",
       "            max_features=None, max_leaf_nodes=None,\n",
       "            min_impurity_decrease=0.0, min_impurity_split=None,\n",
       "            min_samples_leaf=1, min_samples_split=2,\n",
       "            min_weight_fraction_leaf=0.0, presort=False, random_state=None,\n",
       "            splitter='best')</th>\n",
       "      <th>BaggingClassifier(base_estimator=None, bootstrap=True,\n",
       "         bootstrap_features=False, max_features=1.0, max_samples=1.0,\n",
       "         n_estimators=10, n_jobs=None, oob_score=False, random_state=None,\n",
       "         verbose=0, warm_start=False)</th>\n",
       "      <th>RandomForestClassifier(bootstrap=True, class_weight=None, criterion='gini',\n",
       "            max_depth=None, max_features='auto', max_leaf_nodes=None,\n",
       "            min_impurity_decrease=0.0, min_impurity_split=None,\n",
       "            min_samples_leaf=1, min_samples_split=2,\n",
       "            min_weight_fraction_leaf=0.0, n_estimators=10, n_jobs=None,\n",
       "            oob_score=False, random_state=None, verbose=0,\n",
       "            warm_start=False)</th>\n",
       "      <th>AdaBoostClassifier(algorithm='SAMME.R', base_estimator=None,\n",
       "          learning_rate=1.0, n_estimators=50, random_state=None)</th>\n",
       "    </tr>\n",
       "  </thead>\n",
       "  <tbody>\n",
       "    <tr>\n",
       "      <th>0</th>\n",
       "      <td>0.827008</td>\n",
       "      <td>0.843405</td>\n",
       "      <td>0.8981</td>\n",
       "      <td>0.865228</td>\n",
       "      <td>0.891041</td>\n",
       "    </tr>\n",
       "  </tbody>\n",
       "</table>\n",
       "</div>"
      ],
      "text/plain": [
       "   LogisticRegression(C=1.0, class_weight=None, dual=False, fit_intercept=True,\\n          intercept_scaling=1, max_iter=100, multi_class='warn',\\n          n_jobs=None, penalty='l2', random_state=None, solver='warn',\\n          tol=0.0001, verbose=0, warm_start=False)  \\\n",
       "0                                           0.827008                                                                                                                                                                                                                            \n",
       "\n",
       "   DecisionTreeClassifier(class_weight=None, criterion='gini', max_depth=None,\\n            max_features=None, max_leaf_nodes=None,\\n            min_impurity_decrease=0.0, min_impurity_split=None,\\n            min_samples_leaf=1, min_samples_split=2,\\n            min_weight_fraction_leaf=0.0, presort=False, random_state=None,\\n            splitter='best')  \\\n",
       "0                                           0.843405                                                                                                                                                                                                                                                                                                                    \n",
       "\n",
       "   BaggingClassifier(base_estimator=None, bootstrap=True,\\n         bootstrap_features=False, max_features=1.0, max_samples=1.0,\\n         n_estimators=10, n_jobs=None, oob_score=False, random_state=None,\\n         verbose=0, warm_start=False)  \\\n",
       "0                                             0.8981                                                                                                                                                                                                  \n",
       "\n",
       "   RandomForestClassifier(bootstrap=True, class_weight=None, criterion='gini',\\n            max_depth=None, max_features='auto', max_leaf_nodes=None,\\n            min_impurity_decrease=0.0, min_impurity_split=None,\\n            min_samples_leaf=1, min_samples_split=2,\\n            min_weight_fraction_leaf=0.0, n_estimators=10, n_jobs=None,\\n            oob_score=False, random_state=None, verbose=0,\\n            warm_start=False)  \\\n",
       "0                                           0.865228                                                                                                                                                                                                                                                                                                                                                                                               \n",
       "\n",
       "   AdaBoostClassifier(algorithm='SAMME.R', base_estimator=None,\\n          learning_rate=1.0, n_estimators=50, random_state=None)  \n",
       "0                                           0.891041                                                                               "
      ]
     },
     "execution_count": 192,
     "metadata": {},
     "output_type": "execute_result"
    }
   ],
   "source": [
    "smote_pca_cross_val(4, X, y, models)"
   ]
  },
  {
   "cell_type": "markdown",
   "metadata": {},
   "source": [
    "### k = 3"
   ]
  },
  {
   "cell_type": "code",
   "execution_count": 193,
   "metadata": {
    "scrolled": true
   },
   "outputs": [
    {
     "data": {
      "text/html": [
       "<div>\n",
       "<style scoped>\n",
       "    .dataframe tbody tr th:only-of-type {\n",
       "        vertical-align: middle;\n",
       "    }\n",
       "\n",
       "    .dataframe tbody tr th {\n",
       "        vertical-align: top;\n",
       "    }\n",
       "\n",
       "    .dataframe thead th {\n",
       "        text-align: right;\n",
       "    }\n",
       "</style>\n",
       "<table border=\"1\" class=\"dataframe\">\n",
       "  <thead>\n",
       "    <tr style=\"text-align: right;\">\n",
       "      <th></th>\n",
       "      <th>LogisticRegression(C=1.0, class_weight=None, dual=False, fit_intercept=True,\n",
       "          intercept_scaling=1, max_iter=100, multi_class='warn',\n",
       "          n_jobs=None, penalty='l2', random_state=None, solver='warn',\n",
       "          tol=0.0001, verbose=0, warm_start=False)</th>\n",
       "      <th>DecisionTreeClassifier(class_weight=None, criterion='gini', max_depth=None,\n",
       "            max_features=None, max_leaf_nodes=None,\n",
       "            min_impurity_decrease=0.0, min_impurity_split=None,\n",
       "            min_samples_leaf=1, min_samples_split=2,\n",
       "            min_weight_fraction_leaf=0.0, presort=False, random_state=None,\n",
       "            splitter='best')</th>\n",
       "      <th>BaggingClassifier(base_estimator=None, bootstrap=True,\n",
       "         bootstrap_features=False, max_features=1.0, max_samples=1.0,\n",
       "         n_estimators=10, n_jobs=None, oob_score=False, random_state=None,\n",
       "         verbose=0, warm_start=False)</th>\n",
       "      <th>RandomForestClassifier(bootstrap=True, class_weight=None, criterion='gini',\n",
       "            max_depth=None, max_features='auto', max_leaf_nodes=None,\n",
       "            min_impurity_decrease=0.0, min_impurity_split=None,\n",
       "            min_samples_leaf=1, min_samples_split=2,\n",
       "            min_weight_fraction_leaf=0.0, n_estimators=10, n_jobs=None,\n",
       "            oob_score=False, random_state=None, verbose=0,\n",
       "            warm_start=False)</th>\n",
       "      <th>AdaBoostClassifier(algorithm='SAMME.R', base_estimator=None,\n",
       "          learning_rate=1.0, n_estimators=50, random_state=None)</th>\n",
       "    </tr>\n",
       "  </thead>\n",
       "  <tbody>\n",
       "    <tr>\n",
       "      <th>0</th>\n",
       "      <td>0.836859</td>\n",
       "      <td>0.832688</td>\n",
       "      <td>0.885361</td>\n",
       "      <td>0.890842</td>\n",
       "      <td>0.89035</td>\n",
       "    </tr>\n",
       "  </tbody>\n",
       "</table>\n",
       "</div>"
      ],
      "text/plain": [
       "   LogisticRegression(C=1.0, class_weight=None, dual=False, fit_intercept=True,\\n          intercept_scaling=1, max_iter=100, multi_class='warn',\\n          n_jobs=None, penalty='l2', random_state=None, solver='warn',\\n          tol=0.0001, verbose=0, warm_start=False)  \\\n",
       "0                                           0.836859                                                                                                                                                                                                                            \n",
       "\n",
       "   DecisionTreeClassifier(class_weight=None, criterion='gini', max_depth=None,\\n            max_features=None, max_leaf_nodes=None,\\n            min_impurity_decrease=0.0, min_impurity_split=None,\\n            min_samples_leaf=1, min_samples_split=2,\\n            min_weight_fraction_leaf=0.0, presort=False, random_state=None,\\n            splitter='best')  \\\n",
       "0                                           0.832688                                                                                                                                                                                                                                                                                                                    \n",
       "\n",
       "   BaggingClassifier(base_estimator=None, bootstrap=True,\\n         bootstrap_features=False, max_features=1.0, max_samples=1.0,\\n         n_estimators=10, n_jobs=None, oob_score=False, random_state=None,\\n         verbose=0, warm_start=False)  \\\n",
       "0                                           0.885361                                                                                                                                                                                                  \n",
       "\n",
       "   RandomForestClassifier(bootstrap=True, class_weight=None, criterion='gini',\\n            max_depth=None, max_features='auto', max_leaf_nodes=None,\\n            min_impurity_decrease=0.0, min_impurity_split=None,\\n            min_samples_leaf=1, min_samples_split=2,\\n            min_weight_fraction_leaf=0.0, n_estimators=10, n_jobs=None,\\n            oob_score=False, random_state=None, verbose=0,\\n            warm_start=False)  \\\n",
       "0                                           0.890842                                                                                                                                                                                                                                                                                                                                                                                               \n",
       "\n",
       "   AdaBoostClassifier(algorithm='SAMME.R', base_estimator=None,\\n          learning_rate=1.0, n_estimators=50, random_state=None)  \n",
       "0                                            0.89035                                                                               "
      ]
     },
     "execution_count": 193,
     "metadata": {},
     "output_type": "execute_result"
    }
   ],
   "source": [
    "smote_pca_cross_val(3, X, y, models)"
   ]
  },
  {
   "cell_type": "markdown",
   "metadata": {},
   "source": [
    "The most notable models are:\n",
    "1. Bagging Classifier, k = 4: f1 = 0.8981\n",
    "2. AdaBoost Classifier, k = 4: f1 = 0.891041 \n",
    "\n",
    "We will now fit and evaluate both models on the the testing dataset"
   ]
  },
  {
   "cell_type": "markdown",
   "metadata": {},
   "source": [
    "### Bagging Classifier:"
   ]
  },
  {
   "cell_type": "code",
   "execution_count": 199,
   "metadata": {},
   "outputs": [],
   "source": [
    "# SMOTE\n",
    "#Instantiate\n",
    "sm = SMOTE(ratio='minority', k_neighbors=4, random_state = 240)\n",
    "#Fit SMOTE\n",
    "X_smote, y_smote = sm.fit_sample(X, y)\n",
    "\n",
    "#Train/Test Splite with smote data\n",
    "X_smote_train, X_smote_test, y_smote_train, y_smote_test = train_test_split(X_smote,\n",
    "                                                                                y_smote,\n",
    "                                                                               random_state = 42)\n",
    "#PCA Instantiate\n",
    "pca_smote = PCA()\n",
    "#Fit PCA on training data\n",
    "pca_smote.fit(X_smote_train)\n",
    " \n",
    "#Create Z_train and Z_test\n",
    "Z_smote_train = pca_smote.transform(X_smote_train)\n",
    "Z_smote_test = pca_smote.transform(X_smote_test)"
   ]
  },
  {
   "cell_type": "code",
   "execution_count": 200,
   "metadata": {},
   "outputs": [
    {
     "data": {
      "text/plain": [
       "0.7087378640776698"
      ]
     },
     "execution_count": 200,
     "metadata": {},
     "output_type": "execute_result"
    }
   ],
   "source": [
    "#Instantiate Bagging Classifier\n",
    "bag = BaggingClassifier(random_state = 42)\n",
    "\n",
    "bag.fit(Z_smote_train, y_smote_train)\n",
    "\n",
    "bag_preds = bag.predict(Z_smote_test)\n",
    "\n",
    "f1_score(y_smote_test, bag_preds)"
   ]
  },
  {
   "cell_type": "markdown",
   "metadata": {},
   "source": [
    "### AdaBoost Classifier:"
   ]
  },
  {
   "cell_type": "code",
   "execution_count": 230,
   "metadata": {},
   "outputs": [
    {
     "data": {
      "text/plain": [
       "0.6990291262135921"
      ]
     },
     "execution_count": 230,
     "metadata": {},
     "output_type": "execute_result"
    }
   ],
   "source": [
    "ada = AdaBoostClassifier(random_state = 42)\n",
    "\n",
    "ada.fit(Z_smote_train, y_smote_train)\n",
    "\n",
    "ada_preds = ada.predict(Z_smote_test)\n",
    "\n",
    "f1_score(y_smote_test, ada_preds)"
   ]
  },
  {
   "cell_type": "code",
   "execution_count": 233,
   "metadata": {},
   "outputs": [],
   "source": [
    "ada_matrix = pd.DataFrame(np.array(confusion_matrix(y_smote_test, ada_preds)),\n",
    "                         index = ['Not Alert Worthy', 'Alert Worthy'],\n",
    "                        columns=['Predicted Not Alert Worthy','Predicted Alert Worthy'])"
   ]
  },
  {
   "cell_type": "code",
   "execution_count": 234,
   "metadata": {},
   "outputs": [
    {
     "data": {
      "text/html": [
       "<div>\n",
       "<style scoped>\n",
       "    .dataframe tbody tr th:only-of-type {\n",
       "        vertical-align: middle;\n",
       "    }\n",
       "\n",
       "    .dataframe tbody tr th {\n",
       "        vertical-align: top;\n",
       "    }\n",
       "\n",
       "    .dataframe thead th {\n",
       "        text-align: right;\n",
       "    }\n",
       "</style>\n",
       "<table border=\"1\" class=\"dataframe\">\n",
       "  <thead>\n",
       "    <tr style=\"text-align: right;\">\n",
       "      <th></th>\n",
       "      <th>Predicted Not Alert Worthy</th>\n",
       "      <th>Predicted Alert Worthy</th>\n",
       "    </tr>\n",
       "  </thead>\n",
       "  <tbody>\n",
       "    <tr>\n",
       "      <th>Not Alert Worthy</th>\n",
       "      <td>7</td>\n",
       "      <td>60</td>\n",
       "    </tr>\n",
       "    <tr>\n",
       "      <th>Alert Worthy</th>\n",
       "      <td>2</td>\n",
       "      <td>72</td>\n",
       "    </tr>\n",
       "  </tbody>\n",
       "</table>\n",
       "</div>"
      ],
      "text/plain": [
       "                  Predicted Not Alert Worthy  Predicted Alert Worthy\n",
       "Not Alert Worthy                           7                      60\n",
       "Alert Worthy                               2                      72"
      ]
     },
     "execution_count": 234,
     "metadata": {},
     "output_type": "execute_result"
    }
   ],
   "source": [
    "ada_matrix"
   ]
  },
  {
   "cell_type": "markdown",
   "metadata": {},
   "source": [
    "Both models tested actually show significant signs of overfitting to the training data. "
   ]
  },
  {
   "cell_type": "code",
   "execution_count": 228,
   "metadata": {},
   "outputs": [],
   "source": [
    "def create_confusion(y_true, y_pred):\n",
    "    con_mat = pd.DataFrame(np.array(confusion_matrix(y_test, y_pred)), \n",
    "                           index = ['Not Alert Worthy', 'Alert Worthy'],\n",
    "                           columns = ['Predicted Not Alert Worthy', 'Predicted Alert Worthy'])\n",
    "    #hm = sns.heatmap(con_mat.apply(lambda x: x/x.sum(), axis = 1, annot =True, cmap = 'Blues'))\n",
    "    return con_mat\n",
    "\n",
    "def create_heatmap(confusion_matrix):\n",
    "    return sns.heatmap(confusion_matrix.apply(lambda x: x/x.sum(), axis = 1), annot = True, cmap = 'Blues', \n",
    "                       annot_kws={\"size\": 30})"
   ]
  },
  {
   "cell_type": "code",
   "execution_count": 239,
   "metadata": {},
   "outputs": [
    {
     "data": {
      "text/plain": [
       "<matplotlib.axes._subplots.AxesSubplot at 0x13b2c7668>"
      ]
     },
     "execution_count": 239,
     "metadata": {},
     "output_type": "execute_result"
    },
    {
     "data": {
      "image/png": "[encoded data removed]",
      "text/plain": [
       "<Figure size 720x720 with 2 Axes>"
      ]
     },
     "metadata": {},
     "output_type": "display_data"
    }
   ],
   "source": [
    "plt.figure(figsize=(10, 10))\n",
    "sns.heatmap(confusion_matrix(y_smote_test, ada_preds), annot = True, cmap = 'Blues', annot_kws={'size': 30})"
   ]
  },
  {
   "cell_type": "code",
   "execution_count": 237,
   "metadata": {},
   "outputs": [
    {
     "data": {
      "text/plain": [
       "<matplotlib.axes._subplots.AxesSubplot at 0x144799e80>"
      ]
     },
     "execution_count": 237,
     "metadata": {},
     "output_type": "execute_result"
    },
    {
     "data": {
      "image/png": "[encoded data removed]",
      "text/plain": [
       "<Figure size 720x720 with 2 Axes>"
      ]
     },
     "metadata": {},
     "output_type": "display_data"
    }
   ],
   "source": [
    "plt.figure(figsize=(10, 10))\n",
    "create_heatmap(ada_matrix)"
   ]
  },
  {
   "cell_type": "markdown",
   "metadata": {},
   "source": [
    "## Top Model GridSearch"
   ]
  },
  {
   "cell_type": "markdown",
   "metadata": {},
   "source": [
    "In order to decide on a model, we must gridsearch for each of the top scoring models according to the f1 cross validated scores.\n",
    "<br>\n",
    "\n",
    "#### Bagging Classifier:\n",
    "Original Parameters:\n",
    "<br>\n",
    "base_estimator=None, bootstrap=True, bootstrap_features=False, max_features=1.0, max_samples=1.0, n_estimators=10, n_jobs=None, oob_score=False, random_state=None, verbose=0, warm_start=False\n",
    "<br>\n",
    "We will gridsearch through:\n",
    "- max_features(1, 5, 10, 20, 30)\n",
    "- max_samples (1, 5, 10)\n",
    "- n_estimators(10, 20, 30, 50, 80, 120)\n",
    "\n",
    "#### ADABoost Classifier\n",
    "Original Parameters:\n",
    "<br>\n",
    "algorithm='SAMME.R', base_estimator=None, learning_rate=1.0, n_estimators=50, random_state=None\n",
    "<br>\n",
    "Boosting is challenging to gridsearch through."
   ]
  },
  {
   "cell_type": "code",
   "execution_count": 70,
   "metadata": {},
   "outputs": [],
   "source": [
    "cv = KFold(n_splits = 5, random_state = 42)"
   ]
  },
  {
   "cell_type": "code",
   "execution_count": 71,
   "metadata": {},
   "outputs": [],
   "source": [
    "#Create a gridsearch model\n",
    "def gridsearch(X_train, y_train, mod, params, results_list):\n",
    "    #create an empty dictionary to store the results in \n",
    "    details = {}\n",
    "    #instantiate model from the mod input variable\n",
    "    model = mod()\n",
    "    \n",
    "    #Call the model\n",
    "    gs = GridSearchCV(model, param_grid = params, cv=cv) \n",
    "    #cv was defined earlier as cv = KFold(n_splits = 5, random_state = 203) to ensure random state)\n",
    "    \n",
    "    #fit model on the training data\n",
    "    gs.fit(X_train, y_train)\n",
    "\n",
    "    #add the information to a dictionary\n",
    "    details['best score, ' + str(mod)] = {gs.best_score_ : gs.best_params_}\n",
    "    \n",
    "    #append the dictionary to the list to store\n",
    "    results_list.append(details)\n",
    "    \n",
    "    \n",
    "    return results_list"
   ]
  },
  {
   "cell_type": "code",
   "execution_count": 203,
   "metadata": {
    "scrolled": true
   },
   "outputs": [
    {
     "name": "stderr",
     "output_type": "stream",
     "text": [
      "/Users/edithiyerhernandez/anaconda3/lib/python3.6/site-packages/sklearn/model_selection/_search.py:841: DeprecationWarning: The default of the `iid` parameter will change from True to False in version 0.22 and will be removed in 0.24. This will change numeric results when test-set sizes are unequal.\n",
      "  DeprecationWarning)\n"
     ]
    },
    {
     "data": {
      "text/plain": [
       "[{\"best score, <class 'sklearn.ensemble.bagging.BaggingClassifier'>\": {0.8770685579196218: {'max_features': 10,\n",
       "    'max_samples': 20,\n",
       "    'n_estimators': 80}}}]"
      ]
     },
     "execution_count": 203,
     "metadata": {},
     "output_type": "execute_result"
    }
   ],
   "source": [
    "#create params list\n",
    "params = {\n",
    "        'n_estimators': [20, 50, 80],\n",
    "        'max_features': [5, 10, 20, 30],\n",
    "        'max_samples':[5, 10, 20, 30],\n",
    "}\n",
    "\n",
    "bagging_gs_results= []\n",
    "\n",
    "#run the gridsearch\n",
    "gridsearch(Z_smote_train, y_smote_train, BaggingClassifier, params, bagging_gs_results)\n",
    "bagging_gs_results"
   ]
  },
  {
   "cell_type": "code",
   "execution_count": 204,
   "metadata": {
    "scrolled": true
   },
   "outputs": [
    {
     "name": "stderr",
     "output_type": "stream",
     "text": [
      "/Users/edithiyerhernandez/anaconda3/lib/python3.6/site-packages/sklearn/model_selection/_search.py:841: DeprecationWarning: The default of the `iid` parameter will change from True to False in version 0.22 and will be removed in 0.24. This will change numeric results when test-set sizes are unequal.\n",
      "  DeprecationWarning)\n"
     ]
    },
    {
     "data": {
      "text/plain": [
       "[{\"best score, <class 'sklearn.ensemble.bagging.BaggingClassifier'>\": {0.8770685579196218: {'max_features': 10,\n",
       "    'max_samples': 20,\n",
       "    'n_estimators': 80}}},\n",
       " {\"best score, <class 'sklearn.ensemble.bagging.BaggingClassifier'>\": {0.8888888888888888: {'max_features': 10,\n",
       "    'max_samples': 30,\n",
       "    'n_estimators': 120}}}]"
      ]
     },
     "execution_count": 204,
     "metadata": {},
     "output_type": "execute_result"
    }
   ],
   "source": [
    "#create params list\n",
    "params = {\n",
    "        'n_estimators': [50, 80, 120],\n",
    "        'max_features': [10, 20, 30],\n",
    "        'max_samples':[15, 20, 30],\n",
    "}\n",
    "\n",
    "\n",
    "#run the gridsearch\n",
    "gridsearch(Z_smote_train, y_smote_train, BaggingClassifier, params, bagging_gs_results)\n",
    "bagging_gs_results"
   ]
  },
  {
   "cell_type": "markdown",
   "metadata": {},
   "source": [
    "We are going to test the bagging classifier with the above parameters on the testing set to see if we can improve our overall f1_score."
   ]
  },
  {
   "cell_type": "code",
   "execution_count": 205,
   "metadata": {},
   "outputs": [
    {
     "data": {
      "text/plain": [
       "0.7093596059113302"
      ]
     },
     "execution_count": 205,
     "metadata": {},
     "output_type": "execute_result"
    }
   ],
   "source": [
    "#Instantiate Bagging Classifier\n",
    "bag = BaggingClassifier(max_features = 10,\n",
    "                        max_samples = 30,\n",
    "                        n_estimators = 120,\n",
    "                        random_state = 42)\n",
    "\n",
    "bag.fit(Z_smote_train, y_smote_train)\n",
    "\n",
    "bag_preds = bag.predict(Z_smote_test)\n",
    "\n",
    "f1_score(y_smote_test, bag_preds)"
   ]
  },
  {
   "cell_type": "code",
   "execution_count": 215,
   "metadata": {
    "scrolled": true
   },
   "outputs": [
    {
     "data": {
      "text/html": [
       "<div>\n",
       "<style scoped>\n",
       "    .dataframe tbody tr th:only-of-type {\n",
       "        vertical-align: middle;\n",
       "    }\n",
       "\n",
       "    .dataframe tbody tr th {\n",
       "        vertical-align: top;\n",
       "    }\n",
       "\n",
       "    .dataframe thead th {\n",
       "        text-align: right;\n",
       "    }\n",
       "</style>\n",
       "<table border=\"1\" class=\"dataframe\">\n",
       "  <thead>\n",
       "    <tr style=\"text-align: right;\">\n",
       "      <th></th>\n",
       "      <th>Predicted Not Alert Worthy</th>\n",
       "      <th>Predicted Alert Worthy</th>\n",
       "    </tr>\n",
       "  </thead>\n",
       "  <tbody>\n",
       "    <tr>\n",
       "      <th>Not Alert Worthy</th>\n",
       "      <td>10</td>\n",
       "      <td>57</td>\n",
       "    </tr>\n",
       "    <tr>\n",
       "      <th>Alert Worth</th>\n",
       "      <td>2</td>\n",
       "      <td>72</td>\n",
       "    </tr>\n",
       "  </tbody>\n",
       "</table>\n",
       "</div>"
      ],
      "text/plain": [
       "                  Predicted Not Alert Worthy  Predicted Alert Worthy\n",
       "Not Alert Worthy                          10                      57\n",
       "Alert Worth                                2                      72"
      ]
     },
     "execution_count": 215,
     "metadata": {},
     "output_type": "execute_result"
    }
   ],
   "source": [
    "#Look at Confusion Matrix for bagging classifier\n",
    "bagging_cm = pd.DataFrame(np.array(confusion_matrix(y_smote_test, bag_preds)),\n",
    "                         index = ['Not Alert Worthy', 'Alert Worth'],\n",
    "                        columns=['Predicted Not Alert Worthy','Predicted Alert Worthy'])\n",
    "bagging_cm"
   ]
  },
  {
   "cell_type": "code",
   "execution_count": 226,
   "metadata": {},
   "outputs": [
    {
     "data": {
      "text/plain": [
       "<matplotlib.axes._subplots.AxesSubplot at 0x13990f048>"
      ]
     },
     "execution_count": 226,
     "metadata": {},
     "output_type": "execute_result"
    },
    {
     "data": {
      "image/png": "[encoded data removed]",
      "text/plain": [
       "<Figure size 720x720 with 2 Axes>"
      ]
     },
     "metadata": {},
     "output_type": "display_data"
    }
   ],
   "source": [
    "# Create a Heatmap\n",
    "plt.figure(figsize=(10, 10))\n",
    "create_heatmap(bagging_cm)"
   ]
  },
  {
   "cell_type": "markdown",
   "metadata": {},
   "source": [
    "The confusion matrix above is important because it shows that we have very low false negatives. Another way to look at this is to say that we want to minimize false negatives, therefore, we want to look at the recall. Which is $TP/(TP + FN) = 72/(72+ 2) = 0.97$.\n"
   ]
  },
  {
   "cell_type": "code",
   "execution_count": null,
   "metadata": {},
   "outputs": [],
   "source": []
  },
  {
   "cell_type": "code",
   "execution_count": 207,
   "metadata": {},
   "outputs": [],
   "source": [
    "# Check out confusion matrices for each of the best models with their parameters\n",
    "cm = confusion_matrix"
   ]
  },
  {
   "cell_type": "code",
   "execution_count": 48,
   "metadata": {
    "scrolled": true
   },
   "outputs": [
    {
     "data": {
      "text/plain": [
       "LogisticRegression(C=1.0, class_weight=None, dual=False, fit_intercept=True,\n",
       "          intercept_scaling=1, max_iter=100, multi_class='warn',\n",
       "          n_jobs=None, penalty='l2', random_state=None, solver='warn',\n",
       "          tol=0.0001, verbose=0, warm_start=False)"
      ]
     },
     "execution_count": 48,
     "metadata": {},
     "output_type": "execute_result"
    }
   ],
   "source": [
    "logreg = LogisticRegression()\n",
    "\n",
    "logreg.fit(Z_train, y_train)"
   ]
  },
  {
   "cell_type": "code",
   "execution_count": 49,
   "metadata": {},
   "outputs": [
    {
     "data": {
      "text/plain": [
       "1.0"
      ]
     },
     "execution_count": 49,
     "metadata": {},
     "output_type": "execute_result"
    }
   ],
   "source": [
    "logreg.score(Z_train, y_train)"
   ]
  },
  {
   "cell_type": "code",
   "execution_count": 50,
   "metadata": {},
   "outputs": [
    {
     "data": {
      "text/plain": [
       "0.8409090909090909"
      ]
     },
     "execution_count": 50,
     "metadata": {},
     "output_type": "execute_result"
    }
   ],
   "source": [
    "#On PCA data\n",
    "logreg.score(Z_test, y_test)"
   ]
  },
  {
   "cell_type": "code",
   "execution_count": 51,
   "metadata": {},
   "outputs": [
    {
     "data": {
      "text/plain": [
       "1.0"
      ]
     },
     "execution_count": 51,
     "metadata": {},
     "output_type": "execute_result"
    }
   ],
   "source": [
    "lr = LogisticRegression()\n",
    "\n",
    "lr.fit(X_train, y_train)\n",
    "lr.score(X_train, y_train)"
   ]
  },
  {
   "cell_type": "code",
   "execution_count": 52,
   "metadata": {},
   "outputs": [
    {
     "data": {
      "text/plain": [
       "0.8295454545454546"
      ]
     },
     "execution_count": 52,
     "metadata": {},
     "output_type": "execute_result"
    }
   ],
   "source": [
    "#On non PCA data\n",
    "lr.score(X_test, y_test)"
   ]
  },
  {
   "cell_type": "code",
   "execution_count": 64,
   "metadata": {},
   "outputs": [
    {
     "data": {
      "text/html": [
       "<div>\n",
       "<style scoped>\n",
       "    .dataframe tbody tr th:only-of-type {\n",
       "        vertical-align: middle;\n",
       "    }\n",
       "\n",
       "    .dataframe tbody tr th {\n",
       "        vertical-align: top;\n",
       "    }\n",
       "\n",
       "    .dataframe thead th {\n",
       "        text-align: right;\n",
       "    }\n",
       "</style>\n",
       "<table border=\"1\" class=\"dataframe\">\n",
       "  <thead>\n",
       "    <tr style=\"text-align: right;\">\n",
       "      <th></th>\n",
       "      <th>predicted_not_alert_worthy</th>\n",
       "      <th>predicted_alert_worthy</th>\n",
       "    </tr>\n",
       "  </thead>\n",
       "  <tbody>\n",
       "    <tr>\n",
       "      <th>is_not_alert_worthy</th>\n",
       "      <td>68</td>\n",
       "      <td>3</td>\n",
       "    </tr>\n",
       "    <tr>\n",
       "      <th>is_alert_worthy</th>\n",
       "      <td>12</td>\n",
       "      <td>5</td>\n",
       "    </tr>\n",
       "  </tbody>\n",
       "</table>\n",
       "</div>"
      ],
      "text/plain": [
       "                     predicted_not_alert_worthy  predicted_alert_worthy\n",
       "is_not_alert_worthy                          68                       3\n",
       "is_alert_worthy                              12                       5"
      ]
     },
     "execution_count": 64,
     "metadata": {},
     "output_type": "execute_result"
    }
   ],
   "source": [
    "lr_confusion = pd.DataFrame(np.array(confusion_matrix(y_test, lr.predict(X_test))),\n",
    "                         index = ['is_not_alert_worthy', 'is_alert_worthy'],\n",
    "                        columns=['predicted_not_alert_worthy','predicted_alert_worthy'])\n",
    "lr_confusion"
   ]
  },
  {
   "cell_type": "code",
   "execution_count": 90,
   "metadata": {},
   "outputs": [],
   "source": [
    "rf_cm = create_confusion(y_test, rf.predict(Z_test))"
   ]
  },
  {
   "cell_type": "code",
   "execution_count": 96,
   "metadata": {},
   "outputs": [
    {
     "data": {
      "text/html": [
       "<div>\n",
       "<style scoped>\n",
       "    .dataframe tbody tr th:only-of-type {\n",
       "        vertical-align: middle;\n",
       "    }\n",
       "\n",
       "    .dataframe tbody tr th {\n",
       "        vertical-align: top;\n",
       "    }\n",
       "\n",
       "    .dataframe thead th {\n",
       "        text-align: right;\n",
       "    }\n",
       "</style>\n",
       "<table border=\"1\" class=\"dataframe\">\n",
       "  <thead>\n",
       "    <tr style=\"text-align: right;\">\n",
       "      <th></th>\n",
       "      <th>Predicted Not Alert Worthy</th>\n",
       "      <th>Predicted Alert Worthy</th>\n",
       "    </tr>\n",
       "  </thead>\n",
       "  <tbody>\n",
       "    <tr>\n",
       "      <th>Not Alert Worthy</th>\n",
       "      <td>71</td>\n",
       "      <td>0</td>\n",
       "    </tr>\n",
       "    <tr>\n",
       "      <th>Alert Worthy</th>\n",
       "      <td>17</td>\n",
       "      <td>0</td>\n",
       "    </tr>\n",
       "  </tbody>\n",
       "</table>\n",
       "</div>"
      ],
      "text/plain": [
       "                  Predicted Not Alert Worthy  Predicted Alert Worthy\n",
       "Not Alert Worthy                          71                       0\n",
       "Alert Worthy                              17                       0"
      ]
     },
     "execution_count": 96,
     "metadata": {},
     "output_type": "execute_result"
    }
   ],
   "source": [
    "rf_cm"
   ]
  },
  {
   "cell_type": "code",
   "execution_count": 103,
   "metadata": {},
   "outputs": [
    {
     "data": {
      "text/plain": [
       "<matplotlib.axes._subplots.AxesSubplot at 0x13940ef28>"
      ]
     },
     "execution_count": 103,
     "metadata": {},
     "output_type": "execute_result"
    },
    {
     "data": {
      "image/png": "[encoded data removed]",
      "text/plain": [
       "<Figure size 432x288 with 2 Axes>"
      ]
     },
     "metadata": {
      "needs_background": "light"
     },
     "output_type": "display_data"
    }
   ],
   "source": [
    "create_heatmap(rf_cm)"
   ]
  },
  {
   "cell_type": "code",
   "execution_count": 86,
   "metadata": {
    "scrolled": false
   },
   "outputs": [
    {
     "data": {
      "image/png": "[encoded data removed]",
      "text/plain": [
       "<Figure size 432x288 with 2 Axes>"
      ]
     },
     "metadata": {
      "needs_background": "light"
     },
     "output_type": "display_data"
    }
   ],
   "source": [
    "sns.heatmap(lr_confusion.apply(lambda x: x/x.sum(),axis=1), annot=True, cmap = 'Blues');"
   ]
  },
  {
   "cell_type": "code",
   "execution_count": 62,
   "metadata": {
    "scrolled": true
   },
   "outputs": [
    {
     "data": {
      "text/plain": [
       "array([[68,  3],\n",
       "       [12,  5]])"
      ]
     },
     "execution_count": 62,
     "metadata": {},
     "output_type": "execute_result"
    }
   ],
   "source": [
    "confusion_matrix(y_test, lr.predict(X_test))"
   ]
  },
  {
   "cell_type": "code",
   "execution_count": 53,
   "metadata": {},
   "outputs": [
    {
     "data": {
      "text/plain": [
       "array([[-0.07338688,  0.        ,  0.        , ..., -0.0587897 ,\n",
       "         0.        ,  0.        ]])"
      ]
     },
     "execution_count": 53,
     "metadata": {},
     "output_type": "execute_result"
    }
   ],
   "source": [
    "lr.coef_"
   ]
  },
  {
   "cell_type": "code",
   "execution_count": 57,
   "metadata": {},
   "outputs": [],
   "source": [
    "lr_coefs = pd.DataFrame(lr.coef_, columns= X_train.columns).T"
   ]
  },
  {
   "cell_type": "code",
   "execution_count": 61,
   "metadata": {},
   "outputs": [
    {
     "data": {
      "text/html": [
       "<div>\n",
       "<style scoped>\n",
       "    .dataframe tbody tr th:only-of-type {\n",
       "        vertical-align: middle;\n",
       "    }\n",
       "\n",
       "    .dataframe tbody tr th {\n",
       "        vertical-align: top;\n",
       "    }\n",
       "\n",
       "    .dataframe thead th {\n",
       "        text-align: right;\n",
       "    }\n",
       "</style>\n",
       "<table border=\"1\" class=\"dataframe\">\n",
       "  <thead>\n",
       "    <tr style=\"text-align: right;\">\n",
       "      <th></th>\n",
       "      <th>0</th>\n",
       "    </tr>\n",
       "  </thead>\n",
       "  <tbody>\n",
       "    <tr>\n",
       "      <th>palu</th>\n",
       "      <td>1.047548</td>\n",
       "    </tr>\n",
       "    <tr>\n",
       "      <th>breaking</th>\n",
       "      <td>0.971125</td>\n",
       "    </tr>\n",
       "    <tr>\n",
       "      <th>indonesia</th>\n",
       "      <td>0.932676</td>\n",
       "    </tr>\n",
       "    <tr>\n",
       "      <th>co</th>\n",
       "      <td>0.879174</td>\n",
       "    </tr>\n",
       "    <tr>\n",
       "      <th>hit</th>\n",
       "      <td>0.872561</td>\n",
       "    </tr>\n",
       "    <tr>\n",
       "      <th>killed</th>\n",
       "      <td>0.700209</td>\n",
       "    </tr>\n",
       "    <tr>\n",
       "      <th>clear</th>\n",
       "      <td>0.650589</td>\n",
       "    </tr>\n",
       "    <tr>\n",
       "      <th>kill</th>\n",
       "      <td>0.628155</td>\n",
       "    </tr>\n",
       "    <tr>\n",
       "      <th>volcano</th>\n",
       "      <td>0.575490</td>\n",
       "    </tr>\n",
       "    <tr>\n",
       "      <th>prayforanyer</th>\n",
       "      <td>0.570985</td>\n",
       "    </tr>\n",
       "    <tr>\n",
       "      <th>helene</th>\n",
       "      <td>0.553852</td>\n",
       "    </tr>\n",
       "    <tr>\n",
       "      <th>hope</th>\n",
       "      <td>0.507428</td>\n",
       "    </tr>\n",
       "    <tr>\n",
       "      <th>japan</th>\n",
       "      <td>0.500961</td>\n",
       "    </tr>\n",
       "    <tr>\n",
       "      <th>sulawesi</th>\n",
       "      <td>0.500132</td>\n",
       "    </tr>\n",
       "    <tr>\n",
       "      <th>injured</th>\n",
       "      <td>0.494260</td>\n",
       "    </tr>\n",
       "    <tr>\n",
       "      <th>rt</th>\n",
       "      <td>0.491193</td>\n",
       "    </tr>\n",
       "    <tr>\n",
       "      <th>tech</th>\n",
       "      <td>0.483275</td>\n",
       "    </tr>\n",
       "    <tr>\n",
       "      <th>others</th>\n",
       "      <td>0.468404</td>\n",
       "    </tr>\n",
       "    <tr>\n",
       "      <th>saving</th>\n",
       "      <td>0.458238</td>\n",
       "    </tr>\n",
       "    <tr>\n",
       "      <th>injures</th>\n",
       "      <td>0.442219</td>\n",
       "    </tr>\n",
       "  </tbody>\n",
       "</table>\n",
       "</div>"
      ],
      "text/plain": [
       "                     0\n",
       "palu          1.047548\n",
       "breaking      0.971125\n",
       "indonesia     0.932676\n",
       "co            0.879174\n",
       "hit           0.872561\n",
       "killed        0.700209\n",
       "clear         0.650589\n",
       "kill          0.628155\n",
       "volcano       0.575490\n",
       "prayforanyer  0.570985\n",
       "helene        0.553852\n",
       "hope          0.507428\n",
       "japan         0.500961\n",
       "sulawesi      0.500132\n",
       "injured       0.494260\n",
       "rt            0.491193\n",
       "tech          0.483275\n",
       "others        0.468404\n",
       "saving        0.458238\n",
       "injures       0.442219"
      ]
     },
     "execution_count": 61,
     "metadata": {},
     "output_type": "execute_result"
    }
   ],
   "source": [
    "lr_coefs.sort_values(0, ascending=False).head(20)"
   ]
  },
  {
   "cell_type": "markdown",
   "metadata": {},
   "source": [
    "# Final Model:\n",
    "Custom Lemmatization\n",
    "<br>\n",
    "CountVectorized Tweets\n",
    "<br>\n",
    "Corrected for imbalanced classes using SMOTE\n",
    "<br>\n",
    "Dimensionality Reduction through PCA\n",
    "<br>\n",
    "AdaBoost Classifier with standard hyperparameters\n",
    "\n",
    "|Model   |Name   |  \n",
    "|---|---|\n",
    "|AdaBoost Classifier   |`ada`   | \n",
    "\n",
    "\n",
    "\n"
   ]
  },
  {
   "cell_type": "code",
   "execution_count": 241,
   "metadata": {},
   "outputs": [],
   "source": [
    "# input tweets as dataframe that has an index column and 'tweet' column\n",
    "\n",
    "def preprocess_ada_model(df, column, method):\n",
    "    #Lemmatize tweets\n",
    "    lemmed_df = lemmatized_column(df, column)\n",
    "    #Countvectorize tweets\n",
    "    new_df = vectorize_tweets(method, 'lemmatized', lemmed_df)\n",
    "    #Check to see if tweet words are in columns used in building the model\n",
    "    test_columns = []\n",
    "    for col in count_df.columns:\n",
    "        if col not in model_columns:\n",
    "            test_columns.append(col)\n",
    "    new_df.drop(test_columns, axis = 1, inplace=True)\n",
    "    \n",
    "    # PCA transformation\n",
    "    new_model = pca_smote.transform(new_df)\n",
    "    \n",
    "    #Model Prediction\n",
    "    preds = ada.predict(new_model)\n",
    "    \n",
    "    if preds.sum() > 5:\n",
    "        print('Oh No')\n",
    "    else:\n",
    "        print('restart')\n",
    "    return preds.sum()\n",
    "    "
   ]
  },
  {
   "cell_type": "code",
   "execution_count": null,
   "metadata": {},
   "outputs": [],
   "source": []
  }
 ],
 "metadata": {
  "kernelspec": {
   "display_name": "Python 3",
   "language": "python",
   "name": "python3"
  },
  "language_info": {
   "codemirror_mode": {
    "name": "ipython",
    "version": 3
   },
   "file_extension": ".py",
   "mimetype": "text/x-python",
   "name": "python",
   "nbconvert_exporter": "python",
   "pygments_lexer": "ipython3",
   "version": "3.6.6"
  }
 },
 "nbformat": 4,
 "nbformat_minor": 2
}
